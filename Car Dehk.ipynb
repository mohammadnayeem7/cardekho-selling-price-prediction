{
 "cells": [
  {
   "cell_type": "code",
   "execution_count": 1,
   "id": "069cc8e5",
   "metadata": {},
   "outputs": [],
   "source": [
    "import pandas as pd\n",
    "import numpy as np\n",
    "import matplotlib.pyplot as plt\n",
    "%matplotlib inline"
   ]
  },
  {
   "cell_type": "code",
   "execution_count": 2,
   "id": "0776d0d6",
   "metadata": {},
   "outputs": [
    {
     "name": "stdout",
     "output_type": "stream",
     "text": [
      "C:\\Users\\deepe\\OneDrive\\Desktop\\Python Datasets\\Car Dekh\n"
     ]
    }
   ],
   "source": [
    "import io\n",
    "%cd \"C:\\Users\\deepe\\OneDrive\\Desktop\\Python Datasets\\Car Dekh\""
   ]
  },
  {
   "cell_type": "code",
   "execution_count": 3,
   "id": "f37e4f6e",
   "metadata": {},
   "outputs": [],
   "source": [
    "cardata=pd.read_csv(\"Car details v3.csv\")"
   ]
  },
  {
   "cell_type": "code",
   "execution_count": 4,
   "id": "67d3369e",
   "metadata": {},
   "outputs": [
    {
     "name": "stdout",
     "output_type": "stream",
     "text": [
      "<class 'pandas.core.frame.DataFrame'>\n",
      "RangeIndex: 8128 entries, 0 to 8127\n",
      "Data columns (total 13 columns):\n",
      " #   Column         Non-Null Count  Dtype  \n",
      "---  ------         --------------  -----  \n",
      " 0   name           8128 non-null   object \n",
      " 1   year           8128 non-null   int64  \n",
      " 2   selling_price  8128 non-null   int64  \n",
      " 3   km_driven      8128 non-null   int64  \n",
      " 4   fuel           8128 non-null   object \n",
      " 5   seller_type    8128 non-null   object \n",
      " 6   transmission   8128 non-null   object \n",
      " 7   owner          8128 non-null   object \n",
      " 8   mileage        7907 non-null   float64\n",
      " 9   engine         7907 non-null   float64\n",
      " 10  max_power      7913 non-null   object \n",
      " 11  torque         7640 non-null   object \n",
      " 12  seats          7907 non-null   float64\n",
      "dtypes: float64(3), int64(3), object(7)\n",
      "memory usage: 825.6+ KB\n"
     ]
    }
   ],
   "source": [
    "# About the data\n",
    "cardata.info()"
   ]
  },
  {
   "cell_type": "code",
   "execution_count": 5,
   "id": "c2fd553f",
   "metadata": {},
   "outputs": [
    {
     "data": {
      "text/plain": [
       "Index(['name', 'year', 'selling_price', 'km_driven', 'fuel', 'seller_type',\n",
       "       'transmission', 'owner', 'mileage', 'engine', 'max_power', 'torque',\n",
       "       'seats'],\n",
       "      dtype='object')"
      ]
     },
     "execution_count": 5,
     "metadata": {},
     "output_type": "execute_result"
    }
   ],
   "source": [
    "# Columns of data\n",
    "cardata.columns"
   ]
  },
  {
   "cell_type": "code",
   "execution_count": 6,
   "id": "1c1ca2be",
   "metadata": {},
   "outputs": [
    {
     "data": {
      "text/html": [
       "<div>\n",
       "<style scoped>\n",
       "    .dataframe tbody tr th:only-of-type {\n",
       "        vertical-align: middle;\n",
       "    }\n",
       "\n",
       "    .dataframe tbody tr th {\n",
       "        vertical-align: top;\n",
       "    }\n",
       "\n",
       "    .dataframe thead th {\n",
       "        text-align: right;\n",
       "    }\n",
       "</style>\n",
       "<table border=\"1\" class=\"dataframe\">\n",
       "  <thead>\n",
       "    <tr style=\"text-align: right;\">\n",
       "      <th></th>\n",
       "      <th>name</th>\n",
       "      <th>year</th>\n",
       "      <th>selling_price</th>\n",
       "      <th>km_driven</th>\n",
       "      <th>fuel</th>\n",
       "      <th>seller_type</th>\n",
       "      <th>transmission</th>\n",
       "      <th>owner</th>\n",
       "      <th>mileage</th>\n",
       "      <th>engine</th>\n",
       "      <th>max_power</th>\n",
       "      <th>torque</th>\n",
       "      <th>seats</th>\n",
       "    </tr>\n",
       "  </thead>\n",
       "  <tbody>\n",
       "    <tr>\n",
       "      <th>0</th>\n",
       "      <td>Maruti Swift Dzire VDI</td>\n",
       "      <td>2014</td>\n",
       "      <td>450000</td>\n",
       "      <td>145500</td>\n",
       "      <td>Diesel</td>\n",
       "      <td>Individual</td>\n",
       "      <td>Manual</td>\n",
       "      <td>First Owner</td>\n",
       "      <td>23.40</td>\n",
       "      <td>1248.0</td>\n",
       "      <td>74</td>\n",
       "      <td>2000</td>\n",
       "      <td>5.0</td>\n",
       "    </tr>\n",
       "    <tr>\n",
       "      <th>1</th>\n",
       "      <td>Skoda Rapid 1.5 TDI Ambition</td>\n",
       "      <td>2014</td>\n",
       "      <td>370000</td>\n",
       "      <td>120000</td>\n",
       "      <td>Diesel</td>\n",
       "      <td>Individual</td>\n",
       "      <td>Manual</td>\n",
       "      <td>Second Owner</td>\n",
       "      <td>21.14</td>\n",
       "      <td>1498.0</td>\n",
       "      <td>103.52</td>\n",
       "      <td>2500</td>\n",
       "      <td>5.0</td>\n",
       "    </tr>\n",
       "    <tr>\n",
       "      <th>2</th>\n",
       "      <td>Honda City 2017-2020 EXi</td>\n",
       "      <td>2006</td>\n",
       "      <td>158000</td>\n",
       "      <td>140000</td>\n",
       "      <td>Petrol</td>\n",
       "      <td>Individual</td>\n",
       "      <td>Manual</td>\n",
       "      <td>Third Owner</td>\n",
       "      <td>17.70</td>\n",
       "      <td>1497.0</td>\n",
       "      <td>78</td>\n",
       "      <td>2700</td>\n",
       "      <td>5.0</td>\n",
       "    </tr>\n",
       "    <tr>\n",
       "      <th>3</th>\n",
       "      <td>Hyundai i20 Sportz Diesel</td>\n",
       "      <td>2010</td>\n",
       "      <td>225000</td>\n",
       "      <td>127000</td>\n",
       "      <td>Diesel</td>\n",
       "      <td>Individual</td>\n",
       "      <td>Manual</td>\n",
       "      <td>First Owner</td>\n",
       "      <td>23.00</td>\n",
       "      <td>1396.0</td>\n",
       "      <td>90</td>\n",
       "      <td>NaN</td>\n",
       "      <td>5.0</td>\n",
       "    </tr>\n",
       "    <tr>\n",
       "      <th>4</th>\n",
       "      <td>Maruti Swift VXI BSIII</td>\n",
       "      <td>2007</td>\n",
       "      <td>130000</td>\n",
       "      <td>120000</td>\n",
       "      <td>Petrol</td>\n",
       "      <td>Individual</td>\n",
       "      <td>Manual</td>\n",
       "      <td>First Owner</td>\n",
       "      <td>16.10</td>\n",
       "      <td>1298.0</td>\n",
       "      <td>88.2</td>\n",
       "      <td>4500</td>\n",
       "      <td>5.0</td>\n",
       "    </tr>\n",
       "  </tbody>\n",
       "</table>\n",
       "</div>"
      ],
      "text/plain": [
       "                           name  year  selling_price  km_driven    fuel  \\\n",
       "0        Maruti Swift Dzire VDI  2014         450000     145500  Diesel   \n",
       "1  Skoda Rapid 1.5 TDI Ambition  2014         370000     120000  Diesel   \n",
       "2      Honda City 2017-2020 EXi  2006         158000     140000  Petrol   \n",
       "3     Hyundai i20 Sportz Diesel  2010         225000     127000  Diesel   \n",
       "4        Maruti Swift VXI BSIII  2007         130000     120000  Petrol   \n",
       "\n",
       "  seller_type transmission         owner  mileage  engine max_power torque  \\\n",
       "0  Individual       Manual   First Owner    23.40  1248.0        74   2000   \n",
       "1  Individual       Manual  Second Owner    21.14  1498.0    103.52   2500   \n",
       "2  Individual       Manual   Third Owner    17.70  1497.0        78   2700   \n",
       "3  Individual       Manual   First Owner    23.00  1396.0        90    NaN   \n",
       "4  Individual       Manual   First Owner    16.10  1298.0      88.2   4500   \n",
       "\n",
       "   seats  \n",
       "0    5.0  \n",
       "1    5.0  \n",
       "2    5.0  \n",
       "3    5.0  \n",
       "4    5.0  "
      ]
     },
     "execution_count": 6,
     "metadata": {},
     "output_type": "execute_result"
    }
   ],
   "source": [
    "cardata.head()"
   ]
  },
  {
   "cell_type": "code",
   "execution_count": 7,
   "id": "ba927e20",
   "metadata": {},
   "outputs": [
    {
     "data": {
      "text/plain": [
       "torque           0.060039\n",
       "mileage          0.027190\n",
       "engine           0.027190\n",
       "seats            0.027190\n",
       "max_power        0.026452\n",
       "name             0.000000\n",
       "year             0.000000\n",
       "selling_price    0.000000\n",
       "km_driven        0.000000\n",
       "fuel             0.000000\n",
       "seller_type      0.000000\n",
       "transmission     0.000000\n",
       "owner            0.000000\n",
       "dtype: float64"
      ]
     },
     "execution_count": 7,
     "metadata": {},
     "output_type": "execute_result"
    }
   ],
   "source": [
    "# Finding the missing values percentage in each column\n",
    "cardata.isnull().sum().sort_values(ascending=False)/cardata.shape[0]"
   ]
  },
  {
   "cell_type": "code",
   "execution_count": 8,
   "id": "1cca824f",
   "metadata": {},
   "outputs": [],
   "source": [
    "# Creating new column car_age in the data\n",
    "cardata[\"car_age\"]=2023-cardata.year"
   ]
  },
  {
   "cell_type": "code",
   "execution_count": 9,
   "id": "84c06315",
   "metadata": {},
   "outputs": [],
   "source": [
    "# Removing the column year from the data\n",
    "cardata=cardata.drop([\"year\"],axis=1)"
   ]
  },
  {
   "cell_type": "code",
   "execution_count": 10,
   "id": "bc4868b5",
   "metadata": {},
   "outputs": [
    {
     "name": "stdout",
     "output_type": "stream",
     "text": [
      "<class 'pandas.core.frame.DataFrame'>\n",
      "RangeIndex: 8128 entries, 0 to 8127\n",
      "Data columns (total 13 columns):\n",
      " #   Column         Non-Null Count  Dtype  \n",
      "---  ------         --------------  -----  \n",
      " 0   name           8128 non-null   object \n",
      " 1   selling_price  8128 non-null   int64  \n",
      " 2   km_driven      8128 non-null   int64  \n",
      " 3   fuel           8128 non-null   object \n",
      " 4   seller_type    8128 non-null   object \n",
      " 5   transmission   8128 non-null   object \n",
      " 6   owner          8128 non-null   object \n",
      " 7   mileage        7907 non-null   float64\n",
      " 8   engine         7907 non-null   float64\n",
      " 9   max_power      7913 non-null   object \n",
      " 10  torque         7640 non-null   object \n",
      " 11  seats          7907 non-null   float64\n",
      " 12  car_age        8128 non-null   int64  \n",
      "dtypes: float64(3), int64(3), object(7)\n",
      "memory usage: 825.6+ KB\n"
     ]
    }
   ],
   "source": [
    "cardata.info()"
   ]
  },
  {
   "cell_type": "code",
   "execution_count": 11,
   "id": "18ea9075",
   "metadata": {},
   "outputs": [
    {
     "data": {
      "text/plain": [
       "Index(['name', 'selling_price', 'km_driven', 'fuel', 'seller_type',\n",
       "       'transmission', 'owner', 'mileage', 'engine', 'max_power', 'torque',\n",
       "       'seats', 'car_age'],\n",
       "      dtype='object')"
      ]
     },
     "execution_count": 11,
     "metadata": {},
     "output_type": "execute_result"
    }
   ],
   "source": [
    "cardata.columns"
   ]
  },
  {
   "cell_type": "code",
   "execution_count": 12,
   "id": "4765d378",
   "metadata": {},
   "outputs": [],
   "source": [
    "# Splitting the data into numeric and object columns\n",
    "numcols=cardata[['car_age' ,'selling_price', 'km_driven','max_power', 'torque','mileage','engine',]]"
   ]
  },
  {
   "cell_type": "code",
   "execution_count": 13,
   "id": "dbab859e",
   "metadata": {},
   "outputs": [
    {
     "data": {
      "text/html": [
       "<div>\n",
       "<style scoped>\n",
       "    .dataframe tbody tr th:only-of-type {\n",
       "        vertical-align: middle;\n",
       "    }\n",
       "\n",
       "    .dataframe tbody tr th {\n",
       "        vertical-align: top;\n",
       "    }\n",
       "\n",
       "    .dataframe thead th {\n",
       "        text-align: right;\n",
       "    }\n",
       "</style>\n",
       "<table border=\"1\" class=\"dataframe\">\n",
       "  <thead>\n",
       "    <tr style=\"text-align: right;\">\n",
       "      <th></th>\n",
       "      <th>car_age</th>\n",
       "      <th>selling_price</th>\n",
       "      <th>km_driven</th>\n",
       "      <th>mileage</th>\n",
       "      <th>engine</th>\n",
       "    </tr>\n",
       "  </thead>\n",
       "  <tbody>\n",
       "    <tr>\n",
       "      <th>count</th>\n",
       "      <td>8128.000000</td>\n",
       "      <td>8.128000e+03</td>\n",
       "      <td>8.128000e+03</td>\n",
       "      <td>7907.000000</td>\n",
       "      <td>7907.000000</td>\n",
       "    </tr>\n",
       "    <tr>\n",
       "      <th>mean</th>\n",
       "      <td>9.195989</td>\n",
       "      <td>6.382718e+05</td>\n",
       "      <td>6.981951e+04</td>\n",
       "      <td>19.418783</td>\n",
       "      <td>1458.625016</td>\n",
       "    </tr>\n",
       "    <tr>\n",
       "      <th>std</th>\n",
       "      <td>4.044249</td>\n",
       "      <td>8.062534e+05</td>\n",
       "      <td>5.655055e+04</td>\n",
       "      <td>4.037145</td>\n",
       "      <td>503.916303</td>\n",
       "    </tr>\n",
       "    <tr>\n",
       "      <th>min</th>\n",
       "      <td>3.000000</td>\n",
       "      <td>2.999900e+04</td>\n",
       "      <td>1.000000e+00</td>\n",
       "      <td>0.000000</td>\n",
       "      <td>624.000000</td>\n",
       "    </tr>\n",
       "    <tr>\n",
       "      <th>25%</th>\n",
       "      <td>6.000000</td>\n",
       "      <td>2.549990e+05</td>\n",
       "      <td>3.500000e+04</td>\n",
       "      <td>16.780000</td>\n",
       "      <td>1197.000000</td>\n",
       "    </tr>\n",
       "    <tr>\n",
       "      <th>50%</th>\n",
       "      <td>8.000000</td>\n",
       "      <td>4.500000e+05</td>\n",
       "      <td>6.000000e+04</td>\n",
       "      <td>19.300000</td>\n",
       "      <td>1248.000000</td>\n",
       "    </tr>\n",
       "    <tr>\n",
       "      <th>75%</th>\n",
       "      <td>12.000000</td>\n",
       "      <td>6.750000e+05</td>\n",
       "      <td>9.800000e+04</td>\n",
       "      <td>22.320000</td>\n",
       "      <td>1582.000000</td>\n",
       "    </tr>\n",
       "    <tr>\n",
       "      <th>max</th>\n",
       "      <td>40.000000</td>\n",
       "      <td>1.000000e+07</td>\n",
       "      <td>2.360457e+06</td>\n",
       "      <td>42.000000</td>\n",
       "      <td>3604.000000</td>\n",
       "    </tr>\n",
       "  </tbody>\n",
       "</table>\n",
       "</div>"
      ],
      "text/plain": [
       "           car_age  selling_price     km_driven      mileage       engine\n",
       "count  8128.000000   8.128000e+03  8.128000e+03  7907.000000  7907.000000\n",
       "mean      9.195989   6.382718e+05  6.981951e+04    19.418783  1458.625016\n",
       "std       4.044249   8.062534e+05  5.655055e+04     4.037145   503.916303\n",
       "min       3.000000   2.999900e+04  1.000000e+00     0.000000   624.000000\n",
       "25%       6.000000   2.549990e+05  3.500000e+04    16.780000  1197.000000\n",
       "50%       8.000000   4.500000e+05  6.000000e+04    19.300000  1248.000000\n",
       "75%      12.000000   6.750000e+05  9.800000e+04    22.320000  1582.000000\n",
       "max      40.000000   1.000000e+07  2.360457e+06    42.000000  3604.000000"
      ]
     },
     "execution_count": 13,
     "metadata": {},
     "output_type": "execute_result"
    }
   ],
   "source": [
    "numcols.describe()\n",
    "# Here we are not finding the 'max_power' and 'torque' due to the datatypes"
   ]
  },
  {
   "cell_type": "code",
   "execution_count": 14,
   "id": "6768bf6e",
   "metadata": {},
   "outputs": [
    {
     "name": "stderr",
     "output_type": "stream",
     "text": [
      "C:\\Users\\deepe\\AppData\\Local\\Temp\\ipykernel_13108\\3664150394.py:1: SettingWithCopyWarning: \n",
      "A value is trying to be set on a copy of a slice from a DataFrame.\n",
      "Try using .loc[row_indexer,col_indexer] = value instead\n",
      "\n",
      "See the caveats in the documentation: https://pandas.pydata.org/pandas-docs/stable/user_guide/indexing.html#returning-a-view-versus-a-copy\n",
      "  numcols['torque']=pd.to_numeric(numcols.torque,errors='coerce')\n"
     ]
    }
   ],
   "source": [
    "numcols['torque']=pd.to_numeric(numcols.torque,errors='coerce')"
   ]
  },
  {
   "cell_type": "code",
   "execution_count": 15,
   "id": "a883d221",
   "metadata": {},
   "outputs": [
    {
     "name": "stderr",
     "output_type": "stream",
     "text": [
      "C:\\Users\\deepe\\AppData\\Local\\Temp\\ipykernel_13108\\3198012263.py:1: SettingWithCopyWarning: \n",
      "A value is trying to be set on a copy of a slice from a DataFrame.\n",
      "Try using .loc[row_indexer,col_indexer] = value instead\n",
      "\n",
      "See the caveats in the documentation: https://pandas.pydata.org/pandas-docs/stable/user_guide/indexing.html#returning-a-view-versus-a-copy\n",
      "  numcols['max_power']=pd.to_numeric(numcols.max_power,errors='coerce')\n"
     ]
    }
   ],
   "source": [
    "numcols['max_power']=pd.to_numeric(numcols.max_power,errors='coerce')"
   ]
  },
  {
   "cell_type": "code",
   "execution_count": 16,
   "id": "aeb7d100",
   "metadata": {},
   "outputs": [
    {
     "data": {
      "text/html": [
       "<div>\n",
       "<style scoped>\n",
       "    .dataframe tbody tr th:only-of-type {\n",
       "        vertical-align: middle;\n",
       "    }\n",
       "\n",
       "    .dataframe tbody tr th {\n",
       "        vertical-align: top;\n",
       "    }\n",
       "\n",
       "    .dataframe thead th {\n",
       "        text-align: right;\n",
       "    }\n",
       "</style>\n",
       "<table border=\"1\" class=\"dataframe\">\n",
       "  <thead>\n",
       "    <tr style=\"text-align: right;\">\n",
       "      <th></th>\n",
       "      <th>car_age</th>\n",
       "      <th>selling_price</th>\n",
       "      <th>km_driven</th>\n",
       "      <th>max_power</th>\n",
       "      <th>torque</th>\n",
       "      <th>mileage</th>\n",
       "      <th>engine</th>\n",
       "    </tr>\n",
       "  </thead>\n",
       "  <tbody>\n",
       "    <tr>\n",
       "      <th>count</th>\n",
       "      <td>8128.000000</td>\n",
       "      <td>8.128000e+03</td>\n",
       "      <td>8.128000e+03</td>\n",
       "      <td>7912.000000</td>\n",
       "      <td>7634.000000</td>\n",
       "      <td>7907.000000</td>\n",
       "      <td>7907.000000</td>\n",
       "    </tr>\n",
       "    <tr>\n",
       "      <th>mean</th>\n",
       "      <td>9.195989</td>\n",
       "      <td>6.382718e+05</td>\n",
       "      <td>6.981951e+04</td>\n",
       "      <td>91.517919</td>\n",
       "      <td>3089.943673</td>\n",
       "      <td>19.418783</td>\n",
       "      <td>1458.625016</td>\n",
       "    </tr>\n",
       "    <tr>\n",
       "      <th>std</th>\n",
       "      <td>4.044249</td>\n",
       "      <td>8.062534e+05</td>\n",
       "      <td>5.655055e+04</td>\n",
       "      <td>35.822499</td>\n",
       "      <td>923.452758</td>\n",
       "      <td>4.037145</td>\n",
       "      <td>503.916303</td>\n",
       "    </tr>\n",
       "    <tr>\n",
       "      <th>min</th>\n",
       "      <td>3.000000</td>\n",
       "      <td>2.999900e+04</td>\n",
       "      <td>1.000000e+00</td>\n",
       "      <td>0.000000</td>\n",
       "      <td>500.000000</td>\n",
       "      <td>0.000000</td>\n",
       "      <td>624.000000</td>\n",
       "    </tr>\n",
       "    <tr>\n",
       "      <th>25%</th>\n",
       "      <td>6.000000</td>\n",
       "      <td>2.549990e+05</td>\n",
       "      <td>3.500000e+04</td>\n",
       "      <td>68.050000</td>\n",
       "      <td>2500.000000</td>\n",
       "      <td>16.780000</td>\n",
       "      <td>1197.000000</td>\n",
       "    </tr>\n",
       "    <tr>\n",
       "      <th>50%</th>\n",
       "      <td>8.000000</td>\n",
       "      <td>4.500000e+05</td>\n",
       "      <td>6.000000e+04</td>\n",
       "      <td>82.000000</td>\n",
       "      <td>3000.000000</td>\n",
       "      <td>19.300000</td>\n",
       "      <td>1248.000000</td>\n",
       "    </tr>\n",
       "    <tr>\n",
       "      <th>75%</th>\n",
       "      <td>12.000000</td>\n",
       "      <td>6.750000e+05</td>\n",
       "      <td>9.800000e+04</td>\n",
       "      <td>102.000000</td>\n",
       "      <td>4000.000000</td>\n",
       "      <td>22.320000</td>\n",
       "      <td>1582.000000</td>\n",
       "    </tr>\n",
       "    <tr>\n",
       "      <th>max</th>\n",
       "      <td>40.000000</td>\n",
       "      <td>1.000000e+07</td>\n",
       "      <td>2.360457e+06</td>\n",
       "      <td>400.000000</td>\n",
       "      <td>21800.000000</td>\n",
       "      <td>42.000000</td>\n",
       "      <td>3604.000000</td>\n",
       "    </tr>\n",
       "  </tbody>\n",
       "</table>\n",
       "</div>"
      ],
      "text/plain": [
       "           car_age  selling_price     km_driven    max_power        torque  \\\n",
       "count  8128.000000   8.128000e+03  8.128000e+03  7912.000000   7634.000000   \n",
       "mean      9.195989   6.382718e+05  6.981951e+04    91.517919   3089.943673   \n",
       "std       4.044249   8.062534e+05  5.655055e+04    35.822499    923.452758   \n",
       "min       3.000000   2.999900e+04  1.000000e+00     0.000000    500.000000   \n",
       "25%       6.000000   2.549990e+05  3.500000e+04    68.050000   2500.000000   \n",
       "50%       8.000000   4.500000e+05  6.000000e+04    82.000000   3000.000000   \n",
       "75%      12.000000   6.750000e+05  9.800000e+04   102.000000   4000.000000   \n",
       "max      40.000000   1.000000e+07  2.360457e+06   400.000000  21800.000000   \n",
       "\n",
       "           mileage       engine  \n",
       "count  7907.000000  7907.000000  \n",
       "mean     19.418783  1458.625016  \n",
       "std       4.037145   503.916303  \n",
       "min       0.000000   624.000000  \n",
       "25%      16.780000  1197.000000  \n",
       "50%      19.300000  1248.000000  \n",
       "75%      22.320000  1582.000000  \n",
       "max      42.000000  3604.000000  "
      ]
     },
     "execution_count": 16,
     "metadata": {},
     "output_type": "execute_result"
    }
   ],
   "source": [
    "numcols.describe()\n",
    "# here we are finding the 'max_power' and 'torque' by changing the data type"
   ]
  },
  {
   "cell_type": "code",
   "execution_count": 17,
   "id": "9b9e0a21",
   "metadata": {},
   "outputs": [],
   "source": [
    "objcols=cardata[['fuel', 'seller_type','seats','transmission', 'owner']]"
   ]
  },
  {
   "cell_type": "code",
   "execution_count": 18,
   "id": "3094d26b",
   "metadata": {},
   "outputs": [
    {
     "data": {
      "text/plain": [
       "torque           0.060778\n",
       "mileage          0.027190\n",
       "engine           0.027190\n",
       "max_power        0.026575\n",
       "car_age          0.000000\n",
       "selling_price    0.000000\n",
       "km_driven        0.000000\n",
       "dtype: float64"
      ]
     },
     "execution_count": 18,
     "metadata": {},
     "output_type": "execute_result"
    }
   ],
   "source": [
    "# missing values in numcols\n",
    "numcols.isnull().sum().sort_values(ascending=False)/numcols.shape[0]"
   ]
  },
  {
   "cell_type": "code",
   "execution_count": 19,
   "id": "7e1f764e",
   "metadata": {},
   "outputs": [
    {
     "name": "stderr",
     "output_type": "stream",
     "text": [
      "C:\\Users\\deepe\\AppData\\Local\\Temp\\ipykernel_13108\\2985587695.py:3: SettingWithCopyWarning: \n",
      "A value is trying to be set on a copy of a slice from a DataFrame.\n",
      "Try using .loc[row_indexer,col_indexer] = value instead\n",
      "\n",
      "See the caveats in the documentation: https://pandas.pydata.org/pandas-docs/stable/user_guide/indexing.html#returning-a-view-versus-a-copy\n",
      "  numcols[col]=numcols[col].fillna(numcols[col].median())\n"
     ]
    }
   ],
   "source": [
    "# fill in the missing values by using the median \n",
    "for col in numcols.columns:\n",
    "    numcols[col]=numcols[col].fillna(numcols[col].median())"
   ]
  },
  {
   "cell_type": "code",
   "execution_count": 20,
   "id": "6a52a854",
   "metadata": {},
   "outputs": [
    {
     "name": "stdout",
     "output_type": "stream",
     "text": [
      "Diesel    4402\n",
      "Petrol    3631\n",
      "CNG         57\n",
      "LPG         38\n",
      "Name: fuel, dtype: int64\n",
      "Individual          6766\n",
      "Dealer              1126\n",
      "Trustmark Dealer     236\n",
      "Name: seller_type, dtype: int64\n",
      "5.0     6254\n",
      "7.0     1120\n",
      "8.0      236\n",
      "NaN      221\n",
      "4.0      133\n",
      "9.0       80\n",
      "6.0       62\n",
      "10.0      19\n",
      "2.0        2\n",
      "14.0       1\n",
      "Name: seats, dtype: int64\n",
      "Manual       7078\n",
      "Automatic    1050\n",
      "Name: transmission, dtype: int64\n",
      "First Owner             5289\n",
      "Second Owner            2105\n",
      "Third Owner              555\n",
      "Fourth & Above Owner     174\n",
      "Test Drive Car             5\n",
      "Name: owner, dtype: int64\n"
     ]
    }
   ],
   "source": [
    "# finding the frequency of objcols and finding the missing values\n",
    "for col in objcols.columns:\n",
    "    freq=objcols[col].value_counts(dropna=False)\n",
    "    print(freq)"
   ]
  },
  {
   "cell_type": "code",
   "execution_count": 21,
   "id": "da9679f8",
   "metadata": {},
   "outputs": [
    {
     "name": "stderr",
     "output_type": "stream",
     "text": [
      "C:\\Users\\deepe\\AppData\\Local\\Temp\\ipykernel_13108\\2720792656.py:2: SettingWithCopyWarning: \n",
      "A value is trying to be set on a copy of a slice from a DataFrame.\n",
      "Try using .loc[row_indexer,col_indexer] = value instead\n",
      "\n",
      "See the caveats in the documentation: https://pandas.pydata.org/pandas-docs/stable/user_guide/indexing.html#returning-a-view-versus-a-copy\n",
      "  objcols.fuel=objcols.fuel.replace([\"Petrol\",\"CNG\",\"LPG\"],\"PCL\")\n"
     ]
    }
   ],
   "source": [
    "# Merging of the levels due to very few no.\n",
    "objcols.fuel=objcols.fuel.replace([\"Petrol\",\"CNG\",\"LPG\"],\"PCL\")"
   ]
  },
  {
   "cell_type": "code",
   "execution_count": 22,
   "id": "8015416f",
   "metadata": {},
   "outputs": [
    {
     "name": "stderr",
     "output_type": "stream",
     "text": [
      "C:\\Users\\deepe\\AppData\\Local\\Temp\\ipykernel_13108\\992892221.py:1: SettingWithCopyWarning: \n",
      "A value is trying to be set on a copy of a slice from a DataFrame.\n",
      "Try using .loc[row_indexer,col_indexer] = value instead\n",
      "\n",
      "See the caveats in the documentation: https://pandas.pydata.org/pandas-docs/stable/user_guide/indexing.html#returning-a-view-versus-a-copy\n",
      "  objcols.seats=objcols.seats.replace([4.0,9.0,6.0,10.0,2.0,14.0],24691014)\n"
     ]
    }
   ],
   "source": [
    "objcols.seats=objcols.seats.replace([4.0,9.0,6.0,10.0,2.0,14.0],24691014)"
   ]
  },
  {
   "cell_type": "code",
   "execution_count": 23,
   "id": "7457f44b",
   "metadata": {},
   "outputs": [
    {
     "name": "stderr",
     "output_type": "stream",
     "text": [
      "C:\\Users\\deepe\\AppData\\Local\\Temp\\ipykernel_13108\\1184832894.py:1: SettingWithCopyWarning: \n",
      "A value is trying to be set on a copy of a slice from a DataFrame.\n",
      "Try using .loc[row_indexer,col_indexer] = value instead\n",
      "\n",
      "See the caveats in the documentation: https://pandas.pydata.org/pandas-docs/stable/user_guide/indexing.html#returning-a-view-versus-a-copy\n",
      "  objcols.owner=objcols.owner.replace([\"Third Owner\",\"Fourth & Above Owner\",\"Test Drive Car\"],\"3&4 Test\")\n"
     ]
    }
   ],
   "source": [
    "objcols.owner=objcols.owner.replace([\"Third Owner\",\"Fourth & Above Owner\",\"Test Drive Car\"],\"3&4 Test\")"
   ]
  },
  {
   "cell_type": "code",
   "execution_count": 24,
   "id": "b671a989",
   "metadata": {},
   "outputs": [
    {
     "data": {
      "text/plain": [
       "seats           0.02719\n",
       "fuel            0.00000\n",
       "seller_type     0.00000\n",
       "transmission    0.00000\n",
       "owner           0.00000\n",
       "dtype: float64"
      ]
     },
     "execution_count": 24,
     "metadata": {},
     "output_type": "execute_result"
    }
   ],
   "source": [
    "objcols.isnull().sum().sort_values(ascending=False)/numcols.shape[0]"
   ]
  },
  {
   "cell_type": "code",
   "execution_count": 25,
   "id": "85f00655",
   "metadata": {},
   "outputs": [
    {
     "name": "stderr",
     "output_type": "stream",
     "text": [
      "C:\\Users\\deepe\\AppData\\Local\\Temp\\ipykernel_13108\\1716936729.py:2: SettingWithCopyWarning: \n",
      "A value is trying to be set on a copy of a slice from a DataFrame.\n",
      "Try using .loc[row_indexer,col_indexer] = value instead\n",
      "\n",
      "See the caveats in the documentation: https://pandas.pydata.org/pandas-docs/stable/user_guide/indexing.html#returning-a-view-versus-a-copy\n",
      "  objcols[col]=objcols[col].fillna(objcols[col].value_counts().idxmax())\n",
      "C:\\Users\\deepe\\AppData\\Local\\Temp\\ipykernel_13108\\1716936729.py:2: SettingWithCopyWarning: \n",
      "A value is trying to be set on a copy of a slice from a DataFrame.\n",
      "Try using .loc[row_indexer,col_indexer] = value instead\n",
      "\n",
      "See the caveats in the documentation: https://pandas.pydata.org/pandas-docs/stable/user_guide/indexing.html#returning-a-view-versus-a-copy\n",
      "  objcols[col]=objcols[col].fillna(objcols[col].value_counts().idxmax())\n",
      "C:\\Users\\deepe\\AppData\\Local\\Temp\\ipykernel_13108\\1716936729.py:2: SettingWithCopyWarning: \n",
      "A value is trying to be set on a copy of a slice from a DataFrame.\n",
      "Try using .loc[row_indexer,col_indexer] = value instead\n",
      "\n",
      "See the caveats in the documentation: https://pandas.pydata.org/pandas-docs/stable/user_guide/indexing.html#returning-a-view-versus-a-copy\n",
      "  objcols[col]=objcols[col].fillna(objcols[col].value_counts().idxmax())\n",
      "C:\\Users\\deepe\\AppData\\Local\\Temp\\ipykernel_13108\\1716936729.py:2: SettingWithCopyWarning: \n",
      "A value is trying to be set on a copy of a slice from a DataFrame.\n",
      "Try using .loc[row_indexer,col_indexer] = value instead\n",
      "\n",
      "See the caveats in the documentation: https://pandas.pydata.org/pandas-docs/stable/user_guide/indexing.html#returning-a-view-versus-a-copy\n",
      "  objcols[col]=objcols[col].fillna(objcols[col].value_counts().idxmax())\n",
      "C:\\Users\\deepe\\AppData\\Local\\Temp\\ipykernel_13108\\1716936729.py:2: SettingWithCopyWarning: \n",
      "A value is trying to be set on a copy of a slice from a DataFrame.\n",
      "Try using .loc[row_indexer,col_indexer] = value instead\n",
      "\n",
      "See the caveats in the documentation: https://pandas.pydata.org/pandas-docs/stable/user_guide/indexing.html#returning-a-view-versus-a-copy\n",
      "  objcols[col]=objcols[col].fillna(objcols[col].value_counts().idxmax())\n"
     ]
    }
   ],
   "source": [
    "for col in objcols.columns:\n",
    "    objcols[col]=objcols[col].fillna(objcols[col].value_counts().idxmax())"
   ]
  },
  {
   "cell_type": "code",
   "execution_count": 26,
   "id": "a6a03041",
   "metadata": {},
   "outputs": [],
   "source": [
    "# combining the numcols and objcols\n",
    "cardatadf=pd.concat([numcols,objcols],axis=1)"
   ]
  },
  {
   "cell_type": "code",
   "execution_count": 27,
   "id": "47067a72",
   "metadata": {},
   "outputs": [
    {
     "data": {
      "text/plain": [
       "Index(['car_age', 'selling_price', 'km_driven', 'max_power', 'torque',\n",
       "       'mileage', 'engine', 'fuel', 'seller_type', 'seats', 'transmission',\n",
       "       'owner'],\n",
       "      dtype='object')"
      ]
     },
     "execution_count": 27,
     "metadata": {},
     "output_type": "execute_result"
    }
   ],
   "source": [
    "cardatadf.columns"
   ]
  },
  {
   "cell_type": "code",
   "execution_count": 28,
   "id": "956dbb07",
   "metadata": {},
   "outputs": [
    {
     "data": {
      "text/plain": [
       "fuel\n",
       "Diesel    791452.921627\n",
       "PCL       457299.380569\n",
       "Name: selling_price, dtype: float64"
      ]
     },
     "execution_count": 28,
     "metadata": {},
     "output_type": "execute_result"
    }
   ],
   "source": [
    "# EDA \n",
    "# average selling price of fuel\n",
    "cardatadf.selling_price.groupby(cardatadf.fuel).mean()"
   ]
  },
  {
   "cell_type": "code",
   "execution_count": 29,
   "id": "3429570a",
   "metadata": {},
   "outputs": [
    {
     "data": {
      "image/png": "[encoded data removed]",
      "text/plain": [
       "<Figure size 640x480 with 1 Axes>"
      ]
     },
     "metadata": {},
     "output_type": "display_data"
    }
   ],
   "source": [
    "ax=cardatadf.selling_price.groupby(cardatadf.fuel).mean().plot(kind=\"bar\",color=\"blue\",title=\"Average Selling_Price of fule\")\n",
    "for i in ax.containers:\n",
    " ax.bar_label(i,fontsize=10,color=\"Red\")"
   ]
  },
  {
   "cell_type": "code",
   "execution_count": 30,
   "id": "9e2eb0fb",
   "metadata": {},
   "outputs": [
    {
     "data": {
      "text/plain": [
       "<Axes: ylabel='selling_price'>"
      ]
     },
     "execution_count": 30,
     "metadata": {},
     "output_type": "execute_result"
    },
    {
     "data": {
      "image/png": "[encoded data removed]",
      "text/plain": [
       "<Figure size 640x480 with 1 Axes>"
      ]
     },
     "metadata": {},
     "output_type": "display_data"
    }
   ],
   "source": [
    "cardatadf.selling_price.groupby(cardatadf.fuel).mean().plot(kind=\"pie\",autopct=\"%.2f%%\")"
   ]
  },
  {
   "cell_type": "code",
   "execution_count": 31,
   "id": "e6d57e8c",
   "metadata": {},
   "outputs": [
    {
     "data": {
      "text/plain": [
       "seller_type\n",
       "Dealer              1.443494e+06\n",
       "Individual          4.985612e+05\n",
       "Trustmark Dealer    8.018390e+05\n",
       "Name: selling_price, dtype: float64"
      ]
     },
     "execution_count": 31,
     "metadata": {},
     "output_type": "execute_result"
    }
   ],
   "source": [
    "#  Average selling_price of seller-type\n",
    "cardatadf.selling_price.groupby(cardatadf.seller_type).mean()"
   ]
  },
  {
   "cell_type": "code",
   "execution_count": 32,
   "id": "6769fd3b",
   "metadata": {},
   "outputs": [
    {
     "data": {
      "image/png": "[encoded data removed]",
      "text/plain": [
       "<Figure size 640x480 with 1 Axes>"
      ]
     },
     "metadata": {},
     "output_type": "display_data"
    }
   ],
   "source": [
    "ax=cardatadf.selling_price.groupby(cardatadf.seller_type).mean().plot(kind=\"bar\",color=\"red\",title=\"seller_type\")\n",
    "for i in ax.containers:\n",
    " ax.bar_label(i,fontsize=10,color=\"black\",label_type=\"center\")"
   ]
  },
  {
   "cell_type": "code",
   "execution_count": 33,
   "id": "76e100a4",
   "metadata": {},
   "outputs": [
    {
     "data": {
      "text/plain": [
       "<Axes: ylabel='selling_price'>"
      ]
     },
     "execution_count": 33,
     "metadata": {},
     "output_type": "execute_result"
    },
    {
     "data": {
      "image/png": "[encoded data removed]",
      "text/plain": [
       "<Figure size 640x480 with 1 Axes>"
      ]
     },
     "metadata": {},
     "output_type": "display_data"
    }
   ],
   "source": [
    "cardatadf.selling_price.groupby(cardatadf.seller_type).mean().plot(kind=\"pie\",autopct=\"%.2f%%\")"
   ]
  },
  {
   "cell_type": "code",
   "execution_count": 34,
   "id": "95d5427b",
   "metadata": {},
   "outputs": [
    {
     "data": {
      "text/plain": [
       "transmission\n",
       "Automatic    1.870828e+06\n",
       "Manual       4.554259e+05\n",
       "Name: selling_price, dtype: float64"
      ]
     },
     "execution_count": 34,
     "metadata": {},
     "output_type": "execute_result"
    }
   ],
   "source": [
    "# Average selling_price of transmission\n",
    "cardatadf.selling_price.groupby(cardatadf.transmission).mean()"
   ]
  },
  {
   "cell_type": "code",
   "execution_count": 35,
   "id": "81803ab1",
   "metadata": {},
   "outputs": [
    {
     "data": {
      "image/png": "[encoded data removed]",
      "text/plain": [
       "<Figure size 640x480 with 1 Axes>"
      ]
     },
     "metadata": {},
     "output_type": "display_data"
    }
   ],
   "source": [
    "ax=cardatadf.selling_price.groupby(cardatadf.transmission).mean().plot(kind=\"bar\",color=\"yellow\",title=\"transmission\")\n",
    "for i in ax.containers:\n",
    " ax.bar_label(i,fontsize=10,color=\"red\",label_type=\"center\")"
   ]
  },
  {
   "cell_type": "code",
   "execution_count": 36,
   "id": "388094dc",
   "metadata": {},
   "outputs": [
    {
     "data": {
      "text/plain": [
       "<Axes: ylabel='selling_price'>"
      ]
     },
     "execution_count": 36,
     "metadata": {},
     "output_type": "execute_result"
    },
    {
     "data": {
      "image/png": "[encoded data removed]",
      "text/plain": [
       "<Figure size 640x480 with 1 Axes>"
      ]
     },
     "metadata": {},
     "output_type": "display_data"
    }
   ],
   "source": [
    "cardatadf.selling_price.groupby(cardatadf.transmission).mean().plot(kind=\"pie\",autopct=\"%.2f%%\")"
   ]
  },
  {
   "cell_type": "code",
   "execution_count": 37,
   "id": "7ed48c1c",
   "metadata": {},
   "outputs": [
    {
     "data": {
      "text/plain": [
       "owner\n",
       "3&4 Test        298282.017711\n",
       "First Owner     783086.414445\n",
       "Second Owner    392964.468409\n",
       "Name: selling_price, dtype: float64"
      ]
     },
     "execution_count": 37,
     "metadata": {},
     "output_type": "execute_result"
    }
   ],
   "source": [
    "# Average selling_price of owner\n",
    "cardatadf.selling_price.groupby(cardatadf.owner).mean()"
   ]
  },
  {
   "cell_type": "code",
   "execution_count": 38,
   "id": "4c518399",
   "metadata": {},
   "outputs": [
    {
     "data": {
      "image/png": "[encoded data removed]",
      "text/plain": [
       "<Figure size 640x480 with 1 Axes>"
      ]
     },
     "metadata": {},
     "output_type": "display_data"
    }
   ],
   "source": [
    "ax=cardatadf.selling_price.groupby(cardatadf.owner).mean().plot(kind=\"bar\",color=\"green\",title=\"owner\")\n",
    "for i in ax.containers:\n",
    " ax.bar_label(i,fontsize=10,color=\"red\",label_type=\"center\")"
   ]
  },
  {
   "cell_type": "code",
   "execution_count": 39,
   "id": "3ddfdee3",
   "metadata": {},
   "outputs": [
    {
     "data": {
      "text/plain": [
       "<Axes: ylabel='selling_price'>"
      ]
     },
     "execution_count": 39,
     "metadata": {},
     "output_type": "execute_result"
    },
    {
     "data": {
      "image/png": "[encoded data removed]",
      "text/plain": [
       "<Figure size 640x480 with 1 Axes>"
      ]
     },
     "metadata": {},
     "output_type": "display_data"
    }
   ],
   "source": [
    "cardatadf.selling_price.groupby(cardatadf.owner).mean().plot(kind=\"pie\",autopct=\"%.2f%%\")"
   ]
  },
  {
   "cell_type": "code",
   "execution_count": 40,
   "id": "03ea8512",
   "metadata": {},
   "outputs": [
    {
     "data": {
      "text/plain": [
       "seats\n",
       "5.0           616318.857606\n",
       "7.0           812923.184821\n",
       "8.0           583711.826271\n",
       "24691014.0    501611.757576\n",
       "Name: selling_price, dtype: float64"
      ]
     },
     "execution_count": 40,
     "metadata": {},
     "output_type": "execute_result"
    }
   ],
   "source": [
    "# Average selling_price of seats\n",
    "cardatadf.selling_price.groupby(cardatadf.seats).mean()"
   ]
  },
  {
   "cell_type": "code",
   "execution_count": 41,
   "id": "414f6ba4",
   "metadata": {},
   "outputs": [
    {
     "data": {
      "image/png": "[encoded data removed]",
      "text/plain": [
       "<Figure size 640x480 with 1 Axes>"
      ]
     },
     "metadata": {},
     "output_type": "display_data"
    }
   ],
   "source": [
    "ax=cardatadf.selling_price.groupby(cardatadf.seats).mean().plot(kind=\"bar\",color=\"blue\",title=\"seats\")\n",
    "for i in ax.containers:\n",
    " ax.bar_label(i,fontsize=10,color=\"red\",label_type=\"center\")"
   ]
  },
  {
   "cell_type": "code",
   "execution_count": 42,
   "id": "3cbfde3f",
   "metadata": {},
   "outputs": [
    {
     "data": {
      "text/plain": [
       "<Axes: ylabel='selling_price'>"
      ]
     },
     "execution_count": 42,
     "metadata": {},
     "output_type": "execute_result"
    },
    {
     "data": {
      "image/png": "[encoded data removed]",
      "text/plain": [
       "<Figure size 640x480 with 1 Axes>"
      ]
     },
     "metadata": {},
     "output_type": "display_data"
    }
   ],
   "source": [
    "cardatadf.selling_price.groupby(cardatadf.seats).mean().plot(kind=\"pie\",autopct=\"%.2f%%\")"
   ]
  },
  {
   "cell_type": "code",
   "execution_count": 43,
   "id": "dd93f1e9",
   "metadata": {},
   "outputs": [
    {
     "data": {
      "text/plain": [
       "fuel\n",
       "Diesel    19.634607\n",
       "PCL       19.156758\n",
       "Name: mileage, dtype: float64"
      ]
     },
     "execution_count": 43,
     "metadata": {},
     "output_type": "execute_result"
    }
   ],
   "source": [
    "# avg maileage of fule\n",
    "cardatadf.mileage.groupby(cardatadf.fuel).mean()"
   ]
  },
  {
   "cell_type": "code",
   "execution_count": 44,
   "id": "bf3ecde9",
   "metadata": {},
   "outputs": [
    {
     "data": {
      "image/png": "[encoded data removed]",
      "text/plain": [
       "<Figure size 640x480 with 1 Axes>"
      ]
     },
     "metadata": {},
     "output_type": "display_data"
    }
   ],
   "source": [
    "ax=cardatadf.mileage.groupby(cardatadf.fuel).mean().plot(kind=\"bar\",color=\"green\",title=\"Avg.Mileage of fule\")\n",
    "for i in ax.containers:\n",
    " ax.bar_label(i,fontsize=10,color=\"red\",label_type=\"center\")"
   ]
  },
  {
   "cell_type": "code",
   "execution_count": 45,
   "id": "c6bfe395",
   "metadata": {},
   "outputs": [
    {
     "data": {
      "text/plain": [
       "<Axes: ylabel='mileage'>"
      ]
     },
     "execution_count": 45,
     "metadata": {},
     "output_type": "execute_result"
    },
    {
     "data": {
      "image/png": "[encoded data removed]",
      "text/plain": [
       "<Figure size 640x480 with 1 Axes>"
      ]
     },
     "metadata": {},
     "output_type": "display_data"
    }
   ],
   "source": [
    "cardatadf.mileage.groupby(cardatadf.fuel).mean().plot(kind=\"pie\",autopct=\"%.2f%%\")"
   ]
  },
  {
   "cell_type": "code",
   "execution_count": 46,
   "id": "7a03099f",
   "metadata": {},
   "outputs": [
    {
     "data": {
      "text/plain": [
       "transmission\n",
       "Automatic    1820.206667\n",
       "Manual       1398.409014\n",
       "Name: engine, dtype: float64"
      ]
     },
     "execution_count": 46,
     "metadata": {},
     "output_type": "execute_result"
    }
   ],
   "source": [
    "# what is avg engine of transmission\n",
    "cardatadf.engine.groupby(cardatadf.transmission).mean()"
   ]
  },
  {
   "cell_type": "code",
   "execution_count": 47,
   "id": "3a096420",
   "metadata": {},
   "outputs": [
    {
     "data": {
      "image/png": "[encoded data removed]",
      "text/plain": [
       "<Figure size 640x480 with 1 Axes>"
      ]
     },
     "metadata": {},
     "output_type": "display_data"
    }
   ],
   "source": [
    "ax=cardatadf.engine.groupby(cardatadf.transmission).mean().plot(kind=\"bar\",color=\"pink\",title=\"Avg.Engine of Transmission\")\n",
    "for i in ax.containers:\n",
    " ax.bar_label(i,fontsize=10,color=\"red\",label_type=\"center\")"
   ]
  },
  {
   "cell_type": "code",
   "execution_count": 48,
   "id": "099a9ffb",
   "metadata": {},
   "outputs": [
    {
     "data": {
      "text/plain": [
       "<Axes: ylabel='engine'>"
      ]
     },
     "execution_count": 48,
     "metadata": {},
     "output_type": "execute_result"
    },
    {
     "data": {
      "image/png": "[encoded data removed]",
      "text/plain": [
       "<Figure size 640x480 with 1 Axes>"
      ]
     },
     "metadata": {},
     "output_type": "display_data"
    }
   ],
   "source": [
    "cardatadf.engine.groupby(cardatadf.transmission).mean().plot(kind=\"pie\",autopct=\"%.2f%%\")"
   ]
  },
  {
   "cell_type": "code",
   "execution_count": 49,
   "id": "86d4c207",
   "metadata": {},
   "outputs": [
    {
     "name": "stderr",
     "output_type": "stream",
     "text": [
      "C:\\Users\\deepe\\AppData\\Local\\Temp\\ipykernel_13108\\1947867239.py:2: FutureWarning: The default value of numeric_only in DataFrame.corr is deprecated. In a future version, it will default to False. Select only valid columns or specify the value of numeric_only to silence this warning.\n",
      "  cardatadf.corr()\n"
     ]
    },
    {
     "data": {
      "text/html": [
       "<div>\n",
       "<style scoped>\n",
       "    .dataframe tbody tr th:only-of-type {\n",
       "        vertical-align: middle;\n",
       "    }\n",
       "\n",
       "    .dataframe tbody tr th {\n",
       "        vertical-align: top;\n",
       "    }\n",
       "\n",
       "    .dataframe thead th {\n",
       "        text-align: right;\n",
       "    }\n",
       "</style>\n",
       "<table border=\"1\" class=\"dataframe\">\n",
       "  <thead>\n",
       "    <tr style=\"text-align: right;\">\n",
       "      <th></th>\n",
       "      <th>car_age</th>\n",
       "      <th>selling_price</th>\n",
       "      <th>km_driven</th>\n",
       "      <th>max_power</th>\n",
       "      <th>torque</th>\n",
       "      <th>mileage</th>\n",
       "      <th>engine</th>\n",
       "      <th>seats</th>\n",
       "    </tr>\n",
       "  </thead>\n",
       "  <tbody>\n",
       "    <tr>\n",
       "      <th>car_age</th>\n",
       "      <td>1.000000</td>\n",
       "      <td>-0.414092</td>\n",
       "      <td>0.418006</td>\n",
       "      <td>-0.224704</td>\n",
       "      <td>-0.073480</td>\n",
       "      <td>-0.311657</td>\n",
       "      <td>-0.035851</td>\n",
       "      <td>0.132600</td>\n",
       "    </tr>\n",
       "    <tr>\n",
       "      <th>selling_price</th>\n",
       "      <td>-0.414092</td>\n",
       "      <td>1.000000</td>\n",
       "      <td>-0.225534</td>\n",
       "      <td>0.747935</td>\n",
       "      <td>-0.034770</td>\n",
       "      <td>-0.125040</td>\n",
       "      <td>0.458345</td>\n",
       "      <td>-0.033012</td>\n",
       "    </tr>\n",
       "    <tr>\n",
       "      <th>km_driven</th>\n",
       "      <td>0.418006</td>\n",
       "      <td>-0.225534</td>\n",
       "      <td>1.000000</td>\n",
       "      <td>-0.040599</td>\n",
       "      <td>-0.206214</td>\n",
       "      <td>-0.171746</td>\n",
       "      <td>0.198911</td>\n",
       "      <td>0.014551</td>\n",
       "    </tr>\n",
       "    <tr>\n",
       "      <th>max_power</th>\n",
       "      <td>-0.224704</td>\n",
       "      <td>0.747935</td>\n",
       "      <td>-0.040599</td>\n",
       "      <td>1.000000</td>\n",
       "      <td>-0.010493</td>\n",
       "      <td>-0.372897</td>\n",
       "      <td>0.703612</td>\n",
       "      <td>-0.107845</td>\n",
       "    </tr>\n",
       "    <tr>\n",
       "      <th>torque</th>\n",
       "      <td>-0.073480</td>\n",
       "      <td>-0.034770</td>\n",
       "      <td>-0.206214</td>\n",
       "      <td>-0.010493</td>\n",
       "      <td>1.000000</td>\n",
       "      <td>-0.186292</td>\n",
       "      <td>-0.178529</td>\n",
       "      <td>-0.124052</td>\n",
       "    </tr>\n",
       "    <tr>\n",
       "      <th>mileage</th>\n",
       "      <td>-0.311657</td>\n",
       "      <td>-0.125040</td>\n",
       "      <td>-0.171746</td>\n",
       "      <td>-0.372897</td>\n",
       "      <td>-0.186292</td>\n",
       "      <td>1.000000</td>\n",
       "      <td>-0.574128</td>\n",
       "      <td>-0.104514</td>\n",
       "    </tr>\n",
       "    <tr>\n",
       "      <th>engine</th>\n",
       "      <td>-0.035851</td>\n",
       "      <td>0.458345</td>\n",
       "      <td>0.198911</td>\n",
       "      <td>0.703612</td>\n",
       "      <td>-0.178529</td>\n",
       "      <td>-0.574128</td>\n",
       "      <td>1.000000</td>\n",
       "      <td>0.053855</td>\n",
       "    </tr>\n",
       "    <tr>\n",
       "      <th>seats</th>\n",
       "      <td>0.132600</td>\n",
       "      <td>-0.033012</td>\n",
       "      <td>0.014551</td>\n",
       "      <td>-0.107845</td>\n",
       "      <td>-0.124052</td>\n",
       "      <td>-0.104514</td>\n",
       "      <td>0.053855</td>\n",
       "      <td>1.000000</td>\n",
       "    </tr>\n",
       "  </tbody>\n",
       "</table>\n",
       "</div>"
      ],
      "text/plain": [
       "                car_age  selling_price  km_driven  max_power    torque  \\\n",
       "car_age        1.000000      -0.414092   0.418006  -0.224704 -0.073480   \n",
       "selling_price -0.414092       1.000000  -0.225534   0.747935 -0.034770   \n",
       "km_driven      0.418006      -0.225534   1.000000  -0.040599 -0.206214   \n",
       "max_power     -0.224704       0.747935  -0.040599   1.000000 -0.010493   \n",
       "torque        -0.073480      -0.034770  -0.206214  -0.010493  1.000000   \n",
       "mileage       -0.311657      -0.125040  -0.171746  -0.372897 -0.186292   \n",
       "engine        -0.035851       0.458345   0.198911   0.703612 -0.178529   \n",
       "seats          0.132600      -0.033012   0.014551  -0.107845 -0.124052   \n",
       "\n",
       "                mileage    engine     seats  \n",
       "car_age       -0.311657 -0.035851  0.132600  \n",
       "selling_price -0.125040  0.458345 -0.033012  \n",
       "km_driven     -0.171746  0.198911  0.014551  \n",
       "max_power     -0.372897  0.703612 -0.107845  \n",
       "torque        -0.186292 -0.178529 -0.124052  \n",
       "mileage        1.000000 -0.574128 -0.104514  \n",
       "engine        -0.574128  1.000000  0.053855  \n",
       "seats         -0.104514  0.053855  1.000000  "
      ]
     },
     "execution_count": 49,
     "metadata": {},
     "output_type": "execute_result"
    }
   ],
   "source": [
    "# correlation\n",
    "cardatadf.corr()"
   ]
  },
  {
   "cell_type": "code",
   "execution_count": 50,
   "id": "516f7f0d",
   "metadata": {},
   "outputs": [],
   "source": [
    "import seaborn as sns"
   ]
  },
  {
   "cell_type": "code",
   "execution_count": 51,
   "id": "164902ee",
   "metadata": {},
   "outputs": [
    {
     "name": "stderr",
     "output_type": "stream",
     "text": [
      "C:\\Users\\deepe\\AppData\\Local\\Temp\\ipykernel_13108\\680232014.py:1: FutureWarning: The default value of numeric_only in DataFrame.corr is deprecated. In a future version, it will default to False. Select only valid columns or specify the value of numeric_only to silence this warning.\n",
      "  sns.heatmap(data=cardatadf.corr(),annot=True,cmap=\"inferno\",linecolor=\"black\",linewidths=0.5)\n"
     ]
    },
    {
     "data": {
      "text/plain": [
       "<Axes: >"
      ]
     },
     "execution_count": 51,
     "metadata": {},
     "output_type": "execute_result"
    },
    {
     "data": {
      "image/png": "[encoded data removed]",
      "text/plain": [
       "<Figure size 640x480 with 2 Axes>"
      ]
     },
     "metadata": {},
     "output_type": "display_data"
    }
   ],
   "source": [
    "sns.heatmap(data=cardatadf.corr(),annot=True,cmap=\"inferno\",linecolor=\"black\",linewidths=0.5)"
   ]
  },
  {
   "cell_type": "code",
   "execution_count": 52,
   "id": "498a1852",
   "metadata": {},
   "outputs": [
    {
     "data": {
      "text/html": [
       "<div>\n",
       "<style scoped>\n",
       "    .dataframe tbody tr th:only-of-type {\n",
       "        vertical-align: middle;\n",
       "    }\n",
       "\n",
       "    .dataframe tbody tr th {\n",
       "        vertical-align: top;\n",
       "    }\n",
       "\n",
       "    .dataframe thead th {\n",
       "        text-align: right;\n",
       "    }\n",
       "</style>\n",
       "<table border=\"1\" class=\"dataframe\">\n",
       "  <thead>\n",
       "    <tr style=\"text-align: right;\">\n",
       "      <th></th>\n",
       "      <th>selling_price</th>\n",
       "      <th>max_power</th>\n",
       "    </tr>\n",
       "  </thead>\n",
       "  <tbody>\n",
       "    <tr>\n",
       "      <th>selling_price</th>\n",
       "      <td>1.000000</td>\n",
       "      <td>0.747935</td>\n",
       "    </tr>\n",
       "    <tr>\n",
       "      <th>max_power</th>\n",
       "      <td>0.747935</td>\n",
       "      <td>1.000000</td>\n",
       "    </tr>\n",
       "  </tbody>\n",
       "</table>\n",
       "</div>"
      ],
      "text/plain": [
       "               selling_price  max_power\n",
       "selling_price       1.000000   0.747935\n",
       "max_power           0.747935   1.000000"
      ]
     },
     "execution_count": 52,
     "metadata": {},
     "output_type": "execute_result"
    }
   ],
   "source": [
    "# Relation between selling_price and max_power\n",
    "cardatadf[[\"selling_price\",\"max_power\"]].corr()"
   ]
  },
  {
   "cell_type": "code",
   "execution_count": 53,
   "id": "3425b9ad",
   "metadata": {},
   "outputs": [
    {
     "data": {
      "text/plain": [
       "<Axes: xlabel='selling_price', ylabel='max_power'>"
      ]
     },
     "execution_count": 53,
     "metadata": {},
     "output_type": "execute_result"
    },
    {
     "data": {
      "image/png": "[encoded data removed]",
      "text/plain": [
       "<Figure size 640x480 with 1 Axes>"
      ]
     },
     "metadata": {},
     "output_type": "display_data"
    }
   ],
   "source": [
    "cardatadf.plot(x=\"selling_price\",y=\"max_power\",kind=\"scatter\")"
   ]
  },
  {
   "cell_type": "code",
   "execution_count": 54,
   "id": "2d2fd1a8",
   "metadata": {},
   "outputs": [
    {
     "data": {
      "text/html": [
       "<div>\n",
       "<style scoped>\n",
       "    .dataframe tbody tr th:only-of-type {\n",
       "        vertical-align: middle;\n",
       "    }\n",
       "\n",
       "    .dataframe tbody tr th {\n",
       "        vertical-align: top;\n",
       "    }\n",
       "\n",
       "    .dataframe thead th {\n",
       "        text-align: right;\n",
       "    }\n",
       "</style>\n",
       "<table border=\"1\" class=\"dataframe\">\n",
       "  <thead>\n",
       "    <tr style=\"text-align: right;\">\n",
       "      <th></th>\n",
       "      <th>car_age</th>\n",
       "      <th>km_driven</th>\n",
       "    </tr>\n",
       "  </thead>\n",
       "  <tbody>\n",
       "    <tr>\n",
       "      <th>car_age</th>\n",
       "      <td>1.000000</td>\n",
       "      <td>0.418006</td>\n",
       "    </tr>\n",
       "    <tr>\n",
       "      <th>km_driven</th>\n",
       "      <td>0.418006</td>\n",
       "      <td>1.000000</td>\n",
       "    </tr>\n",
       "  </tbody>\n",
       "</table>\n",
       "</div>"
      ],
      "text/plain": [
       "            car_age  km_driven\n",
       "car_age    1.000000   0.418006\n",
       "km_driven  0.418006   1.000000"
      ]
     },
     "execution_count": 54,
     "metadata": {},
     "output_type": "execute_result"
    }
   ],
   "source": [
    "# Relation between age_car and km_driven\n",
    "cardatadf[[\"car_age\",\"km_driven\"]].corr()"
   ]
  },
  {
   "cell_type": "code",
   "execution_count": 55,
   "id": "94a8aff1",
   "metadata": {},
   "outputs": [
    {
     "data": {
      "text/plain": [
       "<Axes: xlabel='car_age', ylabel='km_driven'>"
      ]
     },
     "execution_count": 55,
     "metadata": {},
     "output_type": "execute_result"
    },
    {
     "data": {
      "image/png": "[encoded data removed]",
      "text/plain": [
       "<Figure size 640x480 with 1 Axes>"
      ]
     },
     "metadata": {},
     "output_type": "display_data"
    }
   ],
   "source": [
    "cardatadf.plot(x=\"car_age\",y=\"km_driven\",kind=\"scatter\",color=\"orange\")"
   ]
  },
  {
   "cell_type": "code",
   "execution_count": 56,
   "id": "f21157c8",
   "metadata": {},
   "outputs": [],
   "source": [
    "# Hypothis Testing\n",
    "from scipy.stats import ttest_ind"
   ]
  },
  {
   "cell_type": "code",
   "execution_count": 57,
   "id": "f114491e",
   "metadata": {},
   "outputs": [
    {
     "data": {
      "text/plain": [
       "transmission\n",
       "Automatic    1.870828e+06\n",
       "Manual       4.554259e+05\n",
       "Name: selling_price, dtype: float64"
      ]
     },
     "execution_count": 57,
     "metadata": {},
     "output_type": "execute_result"
    }
   ],
   "source": [
    "cardatadf.selling_price.groupby(cardatadf.transmission).mean()"
   ]
  },
  {
   "cell_type": "code",
   "execution_count": 58,
   "id": "1301029b",
   "metadata": {},
   "outputs": [],
   "source": [
    "# Spliting data\n",
    "transmissionA=cardatadf[cardatadf.transmission==\"Automatic\"]\n",
    "transmissionM=cardatadf[cardatadf.transmission==\"Manual\"]"
   ]
  },
  {
   "cell_type": "code",
   "execution_count": 59,
   "id": "3352e5c4",
   "metadata": {},
   "outputs": [
    {
     "data": {
      "text/plain": [
       "Ttest_indResult(statistic=27.888813193478946, pvalue=8.531946079710315e-129)"
      ]
     },
     "execution_count": 59,
     "metadata": {},
     "output_type": "execute_result"
    }
   ],
   "source": [
    "ttest_ind(transmissionA.selling_price,transmissionM.selling_price,equal_var=False)"
   ]
  },
  {
   "cell_type": "code",
   "execution_count": 60,
   "id": "3ec78b45",
   "metadata": {},
   "outputs": [
    {
     "data": {
      "text/plain": [
       "fuel\n",
       "Diesel    791452.921627\n",
       "PCL       457299.380569\n",
       "Name: selling_price, dtype: float64"
      ]
     },
     "execution_count": 60,
     "metadata": {},
     "output_type": "execute_result"
    }
   ],
   "source": [
    "# What is null avg. Selling_price and fule\n",
    "cardatadf.selling_price.groupby(cardatadf.fuel).mean()"
   ]
  },
  {
   "cell_type": "code",
   "execution_count": 61,
   "id": "f7e62820",
   "metadata": {},
   "outputs": [],
   "source": [
    "fuleDiesel=cardatadf[cardatadf.fuel==\"Diesel\"]\n",
    "fulePCL=cardatadf[cardatadf.fuel==\"PCL\"]"
   ]
  },
  {
   "cell_type": "code",
   "execution_count": 62,
   "id": "e8553d76",
   "metadata": {},
   "outputs": [
    {
     "data": {
      "text/plain": [
       "Ttest_indResult(statistic=19.618295786057498, pvalue=1.1099823034116554e-83)"
      ]
     },
     "execution_count": 62,
     "metadata": {},
     "output_type": "execute_result"
    }
   ],
   "source": [
    "ttest_ind(fuleDiesel.selling_price,fulePCL.selling_price,equal_var=False)"
   ]
  },
  {
   "cell_type": "code",
   "execution_count": 63,
   "id": "3e846986",
   "metadata": {},
   "outputs": [],
   "source": [
    "from scipy.stats import f_oneway"
   ]
  },
  {
   "cell_type": "code",
   "execution_count": 64,
   "id": "48f2a8c6",
   "metadata": {},
   "outputs": [
    {
     "data": {
      "text/plain": [
       "seats\n",
       "5.0           616318.857606\n",
       "7.0           812923.184821\n",
       "8.0           583711.826271\n",
       "24691014.0    501611.757576\n",
       "Name: selling_price, dtype: float64"
      ]
     },
     "execution_count": 64,
     "metadata": {},
     "output_type": "execute_result"
    }
   ],
   "source": [
    "cardatadf.selling_price.groupby(cardatadf.seats).mean()"
   ]
  },
  {
   "cell_type": "code",
   "execution_count": 65,
   "id": "7d96469d",
   "metadata": {},
   "outputs": [],
   "source": [
    "seats5=cardatadf[cardatadf.seats==5.0]\n",
    "seats7=cardatadf[cardatadf.seats==7.0]\n",
    "seats8=cardatadf[cardatadf.seats==8.0]\n",
    "seats24=cardatadf[cardatadf.seats==24691014.0]"
   ]
  },
  {
   "cell_type": "code",
   "execution_count": 66,
   "id": "87b1dd76",
   "metadata": {},
   "outputs": [
    {
     "data": {
      "text/plain": [
       "F_onewayResult(statistic=22.50039628849741, pvalue=1.6749292345739754e-14)"
      ]
     },
     "execution_count": 66,
     "metadata": {},
     "output_type": "execute_result"
    }
   ],
   "source": [
    "f_oneway(seats5.selling_price,seats7.selling_price,seats8.selling_price,seats24.selling_price)"
   ]
  },
  {
   "cell_type": "code",
   "execution_count": 67,
   "id": "0ba1c8ce",
   "metadata": {},
   "outputs": [
    {
     "data": {
      "text/plain": [
       "seller_type\n",
       "Dealer              1.443494e+06\n",
       "Individual          4.985612e+05\n",
       "Trustmark Dealer    8.018390e+05\n",
       "Name: selling_price, dtype: float64"
      ]
     },
     "execution_count": 67,
     "metadata": {},
     "output_type": "execute_result"
    }
   ],
   "source": [
    "cardatadf.selling_price.groupby(cardatadf.seller_type).mean()"
   ]
  },
  {
   "cell_type": "code",
   "execution_count": 68,
   "id": "846eb089",
   "metadata": {},
   "outputs": [],
   "source": [
    "dea=cardatadf[cardatadf.seller_type==\"Dealer\"]\n",
    "ind=cardatadf[cardatadf.seller_type==\"Individual\"]\n",
    "tru=cardatadf[cardatadf.seller_type==\"Trustmark Dealer\"]"
   ]
  },
  {
   "cell_type": "code",
   "execution_count": 69,
   "id": "a3e544e8",
   "metadata": {},
   "outputs": [
    {
     "data": {
      "text/plain": [
       "F_onewayResult(statistic=799.2183234565078, pvalue=1.3789446e-317)"
      ]
     },
     "execution_count": 69,
     "metadata": {},
     "output_type": "execute_result"
    }
   ],
   "source": [
    "f_oneway(dea.selling_price,ind.selling_price,tru.selling_price)"
   ]
  },
  {
   "cell_type": "code",
   "execution_count": 70,
   "id": "571f2899",
   "metadata": {},
   "outputs": [
    {
     "data": {
      "text/html": [
       "<div>\n",
       "<style scoped>\n",
       "    .dataframe tbody tr th:only-of-type {\n",
       "        vertical-align: middle;\n",
       "    }\n",
       "\n",
       "    .dataframe tbody tr th {\n",
       "        vertical-align: top;\n",
       "    }\n",
       "\n",
       "    .dataframe thead th {\n",
       "        text-align: right;\n",
       "    }\n",
       "</style>\n",
       "<table border=\"1\" class=\"dataframe\">\n",
       "  <thead>\n",
       "    <tr style=\"text-align: right;\">\n",
       "      <th>seats</th>\n",
       "      <th>5.0</th>\n",
       "      <th>7.0</th>\n",
       "      <th>8.0</th>\n",
       "      <th>24691014.0</th>\n",
       "    </tr>\n",
       "    <tr>\n",
       "      <th>seller_type</th>\n",
       "      <th></th>\n",
       "      <th></th>\n",
       "      <th></th>\n",
       "      <th></th>\n",
       "    </tr>\n",
       "  </thead>\n",
       "  <tbody>\n",
       "    <tr>\n",
       "      <th>Dealer</th>\n",
       "      <td>987</td>\n",
       "      <td>107</td>\n",
       "      <td>17</td>\n",
       "      <td>15</td>\n",
       "    </tr>\n",
       "    <tr>\n",
       "      <th>Individual</th>\n",
       "      <td>5283</td>\n",
       "      <td>982</td>\n",
       "      <td>219</td>\n",
       "      <td>282</td>\n",
       "    </tr>\n",
       "    <tr>\n",
       "      <th>Trustmark Dealer</th>\n",
       "      <td>205</td>\n",
       "      <td>31</td>\n",
       "      <td>0</td>\n",
       "      <td>0</td>\n",
       "    </tr>\n",
       "  </tbody>\n",
       "</table>\n",
       "</div>"
      ],
      "text/plain": [
       "seats             5.0         7.0         8.0         24691014.0\n",
       "seller_type                                                     \n",
       "Dealer                   987         107          17          15\n",
       "Individual              5283         982         219         282\n",
       "Trustmark Dealer         205          31           0           0"
      ]
     },
     "execution_count": 70,
     "metadata": {},
     "output_type": "execute_result"
    }
   ],
   "source": [
    "# Cross Tabulation\n",
    "# Test null no Association between seller_type and seats\n",
    "pd.crosstab(cardatadf.seller_type,cardatadf.seats)"
   ]
  },
  {
   "cell_type": "code",
   "execution_count": 71,
   "id": "d3db904a",
   "metadata": {},
   "outputs": [],
   "source": [
    "from scipy.stats import chi2_contingency"
   ]
  },
  {
   "cell_type": "code",
   "execution_count": 72,
   "id": "1f4b0493",
   "metadata": {},
   "outputs": [
    {
     "data": {
      "text/plain": [
       "Chi2ContingencyResult(statistic=77.45365977478873, pvalue=1.198296792022145e-14, dof=6, expected_freq=array([[ 897.00418307,  155.15748031,   32.69389764,   41.14443898],\n",
       "       [5389.9913878 ,  932.32283465,  196.45374016,  247.2320374 ],\n",
       "       [ 188.00442913,   32.51968504,    6.8523622 ,    8.62352362]]))"
      ]
     },
     "execution_count": 72,
     "metadata": {},
     "output_type": "execute_result"
    }
   ],
   "source": [
    "chi2_contingency(pd.crosstab(cardatadf.seller_type,cardatadf.seats))"
   ]
  },
  {
   "cell_type": "code",
   "execution_count": 73,
   "id": "483ff1d8",
   "metadata": {},
   "outputs": [
    {
     "data": {
      "text/html": [
       "<div>\n",
       "<style scoped>\n",
       "    .dataframe tbody tr th:only-of-type {\n",
       "        vertical-align: middle;\n",
       "    }\n",
       "\n",
       "    .dataframe tbody tr th {\n",
       "        vertical-align: top;\n",
       "    }\n",
       "\n",
       "    .dataframe thead th {\n",
       "        text-align: right;\n",
       "    }\n",
       "</style>\n",
       "<table border=\"1\" class=\"dataframe\">\n",
       "  <thead>\n",
       "    <tr style=\"text-align: right;\">\n",
       "      <th>transmission</th>\n",
       "      <th>Automatic</th>\n",
       "      <th>Manual</th>\n",
       "    </tr>\n",
       "    <tr>\n",
       "      <th>seller_type</th>\n",
       "      <th></th>\n",
       "      <th></th>\n",
       "    </tr>\n",
       "  </thead>\n",
       "  <tbody>\n",
       "    <tr>\n",
       "      <th>Dealer</th>\n",
       "      <td>459</td>\n",
       "      <td>667</td>\n",
       "    </tr>\n",
       "    <tr>\n",
       "      <th>Individual</th>\n",
       "      <td>492</td>\n",
       "      <td>6274</td>\n",
       "    </tr>\n",
       "    <tr>\n",
       "      <th>Trustmark Dealer</th>\n",
       "      <td>99</td>\n",
       "      <td>137</td>\n",
       "    </tr>\n",
       "  </tbody>\n",
       "</table>\n",
       "</div>"
      ],
      "text/plain": [
       "transmission      Automatic  Manual\n",
       "seller_type                        \n",
       "Dealer                  459     667\n",
       "Individual              492    6274\n",
       "Trustmark Dealer         99     137"
      ]
     },
     "execution_count": 73,
     "metadata": {},
     "output_type": "execute_result"
    }
   ],
   "source": [
    "# Test null no Association between seller_type and Transmission\n",
    "pd.crosstab(cardatadf.seller_type,cardatadf.transmission)"
   ]
  },
  {
   "cell_type": "code",
   "execution_count": 74,
   "id": "b5e13684",
   "metadata": {},
   "outputs": [
    {
     "data": {
      "text/plain": [
       "Chi2ContingencyResult(statistic=1144.671970176008, pvalue=2.7393017920647704e-249, dof=2, expected_freq=array([[ 145.4601378 ,  980.5398622 ],\n",
       "       [ 874.05265748, 5891.94734252],\n",
       "       [  30.48720472,  205.51279528]]))"
      ]
     },
     "execution_count": 74,
     "metadata": {},
     "output_type": "execute_result"
    }
   ],
   "source": [
    "chi2_contingency(pd.crosstab(cardatadf.seller_type,cardatadf.transmission))"
   ]
  },
  {
   "cell_type": "code",
   "execution_count": 75,
   "id": "d1cace37",
   "metadata": {},
   "outputs": [
    {
     "data": {
      "text/plain": [
       "21.081289012186755"
      ]
     },
     "execution_count": 75,
     "metadata": {},
     "output_type": "execute_result"
    }
   ],
   "source": [
    "cardatadf.selling_price.kurt()"
   ]
  },
  {
   "cell_type": "code",
   "execution_count": 76,
   "id": "6de47020",
   "metadata": {},
   "outputs": [
    {
     "data": {
      "text/plain": [
       "4.193533440675855"
      ]
     },
     "execution_count": 76,
     "metadata": {},
     "output_type": "execute_result"
    }
   ],
   "source": [
    "cardatadf.selling_price.skew()"
   ]
  },
  {
   "cell_type": "code",
   "execution_count": 77,
   "id": "72940ca0",
   "metadata": {},
   "outputs": [
    {
     "data": {
      "text/plain": [
       "<Axes: >"
      ]
     },
     "execution_count": 77,
     "metadata": {},
     "output_type": "execute_result"
    },
    {
     "data": {
      "image/png": "[encoded data removed]",
      "text/plain": [
       "<Figure size 640x480 with 1 Axes>"
      ]
     },
     "metadata": {},
     "output_type": "display_data"
    }
   ],
   "source": [
    "cardatadf.selling_price.plot(kind=\"box\",vert=False)"
   ]
  },
  {
   "cell_type": "code",
   "execution_count": 78,
   "id": "a29e0987",
   "metadata": {},
   "outputs": [
    {
     "data": {
      "text/plain": [
       "<Axes: ylabel='Density'>"
      ]
     },
     "execution_count": 78,
     "metadata": {},
     "output_type": "execute_result"
    },
    {
     "data": {
      "image/png": "[encoded data removed]",
      "text/plain": [
       "<Figure size 640x480 with 1 Axes>"
      ]
     },
     "metadata": {},
     "output_type": "display_data"
    }
   ],
   "source": [
    "cardatadf.selling_price.plot(kind=\"density\")"
   ]
  },
  {
   "cell_type": "code",
   "execution_count": 79,
   "id": "b22cf3e0",
   "metadata": {},
   "outputs": [
    {
     "data": {
      "text/plain": [
       "<Axes: ylabel='Frequency'>"
      ]
     },
     "execution_count": 79,
     "metadata": {},
     "output_type": "execute_result"
    },
    {
     "data": {
      "image/png": "[encoded data removed]",
      "text/plain": [
       "<Figure size 640x480 with 1 Axes>"
      ]
     },
     "metadata": {},
     "output_type": "display_data"
    }
   ],
   "source": [
    "cardatadf.selling_price.plot(kind=\"hist\")"
   ]
  },
  {
   "cell_type": "code",
   "execution_count": 80,
   "id": "e44628e5",
   "metadata": {},
   "outputs": [
    {
     "data": {
      "text/plain": [
       "<Axes: ylabel='Density'>"
      ]
     },
     "execution_count": 80,
     "metadata": {},
     "output_type": "execute_result"
    },
    {
     "data": {
      "image/png": "[encoded data removed]",
      "text/plain": [
       "<Figure size 640x480 with 1 Axes>"
      ]
     },
     "metadata": {},
     "output_type": "display_data"
    }
   ],
   "source": [
    "np.log(cardatadf.selling_price).plot(kind='density')"
   ]
  },
  {
   "cell_type": "code",
   "execution_count": 81,
   "id": "1d23ee5e",
   "metadata": {},
   "outputs": [],
   "source": [
    " # Here we are dropping the dependent variable\n",
    "numcols=numcols.drop([\"selling_price\"],axis=1)"
   ]
  },
  {
   "cell_type": "code",
   "execution_count": 82,
   "id": "c4e14238",
   "metadata": {},
   "outputs": [
    {
     "data": {
      "text/html": [
       "<div>\n",
       "<style scoped>\n",
       "    .dataframe tbody tr th:only-of-type {\n",
       "        vertical-align: middle;\n",
       "    }\n",
       "\n",
       "    .dataframe tbody tr th {\n",
       "        vertical-align: top;\n",
       "    }\n",
       "\n",
       "    .dataframe thead th {\n",
       "        text-align: right;\n",
       "    }\n",
       "</style>\n",
       "<table border=\"1\" class=\"dataframe\">\n",
       "  <thead>\n",
       "    <tr style=\"text-align: right;\">\n",
       "      <th></th>\n",
       "      <th>car_age</th>\n",
       "      <th>km_driven</th>\n",
       "      <th>max_power</th>\n",
       "      <th>torque</th>\n",
       "      <th>mileage</th>\n",
       "      <th>engine</th>\n",
       "    </tr>\n",
       "  </thead>\n",
       "  <tbody>\n",
       "    <tr>\n",
       "      <th>0</th>\n",
       "      <td>9</td>\n",
       "      <td>145500</td>\n",
       "      <td>74.00</td>\n",
       "      <td>2000.0</td>\n",
       "      <td>23.40</td>\n",
       "      <td>1248.0</td>\n",
       "    </tr>\n",
       "    <tr>\n",
       "      <th>1</th>\n",
       "      <td>9</td>\n",
       "      <td>120000</td>\n",
       "      <td>103.52</td>\n",
       "      <td>2500.0</td>\n",
       "      <td>21.14</td>\n",
       "      <td>1498.0</td>\n",
       "    </tr>\n",
       "    <tr>\n",
       "      <th>2</th>\n",
       "      <td>17</td>\n",
       "      <td>140000</td>\n",
       "      <td>78.00</td>\n",
       "      <td>2700.0</td>\n",
       "      <td>17.70</td>\n",
       "      <td>1497.0</td>\n",
       "    </tr>\n",
       "    <tr>\n",
       "      <th>3</th>\n",
       "      <td>13</td>\n",
       "      <td>127000</td>\n",
       "      <td>90.00</td>\n",
       "      <td>3000.0</td>\n",
       "      <td>23.00</td>\n",
       "      <td>1396.0</td>\n",
       "    </tr>\n",
       "    <tr>\n",
       "      <th>4</th>\n",
       "      <td>16</td>\n",
       "      <td>120000</td>\n",
       "      <td>88.20</td>\n",
       "      <td>4500.0</td>\n",
       "      <td>16.10</td>\n",
       "      <td>1298.0</td>\n",
       "    </tr>\n",
       "  </tbody>\n",
       "</table>\n",
       "</div>"
      ],
      "text/plain": [
       "   car_age  km_driven  max_power  torque  mileage  engine\n",
       "0        9     145500      74.00  2000.0    23.40  1248.0\n",
       "1        9     120000     103.52  2500.0    21.14  1498.0\n",
       "2       17     140000      78.00  2700.0    17.70  1497.0\n",
       "3       13     127000      90.00  3000.0    23.00  1396.0\n",
       "4       16     120000      88.20  4500.0    16.10  1298.0"
      ]
     },
     "execution_count": 82,
     "metadata": {},
     "output_type": "execute_result"
    }
   ],
   "source": [
    "numcols.head()"
   ]
  },
  {
   "cell_type": "code",
   "execution_count": 83,
   "id": "7c4b501e",
   "metadata": {},
   "outputs": [],
   "source": [
    "# Dummy Encoding and Scaling\n",
    "from sklearn.preprocessing import StandardScaler"
   ]
  },
  {
   "cell_type": "code",
   "execution_count": 84,
   "id": "6d167570",
   "metadata": {},
   "outputs": [],
   "source": [
    "car_stdsca=StandardScaler()"
   ]
  },
  {
   "cell_type": "code",
   "execution_count": 85,
   "id": "7fe02102",
   "metadata": {},
   "outputs": [],
   "source": [
    "numcols_stdsc=car_stdsca.fit_transform(numcols)"
   ]
  },
  {
   "cell_type": "code",
   "execution_count": 86,
   "id": "ce25fe6a",
   "metadata": {},
   "outputs": [],
   "source": [
    "numcols_stdsc=pd.DataFrame(numcols_stdsc,columns=numcols.columns)"
   ]
  },
  {
   "cell_type": "code",
   "execution_count": 87,
   "id": "65e4bc69",
   "metadata": {},
   "outputs": [
    {
     "data": {
      "text/html": [
       "<div>\n",
       "<style scoped>\n",
       "    .dataframe tbody tr th:only-of-type {\n",
       "        vertical-align: middle;\n",
       "    }\n",
       "\n",
       "    .dataframe tbody tr th {\n",
       "        vertical-align: top;\n",
       "    }\n",
       "\n",
       "    .dataframe thead th {\n",
       "        text-align: right;\n",
       "    }\n",
       "</style>\n",
       "<table border=\"1\" class=\"dataframe\">\n",
       "  <thead>\n",
       "    <tr style=\"text-align: right;\">\n",
       "      <th></th>\n",
       "      <th>car_age</th>\n",
       "      <th>km_driven</th>\n",
       "      <th>max_power</th>\n",
       "      <th>torque</th>\n",
       "      <th>mileage</th>\n",
       "      <th>engine</th>\n",
       "    </tr>\n",
       "  </thead>\n",
       "  <tbody>\n",
       "    <tr>\n",
       "      <th>0</th>\n",
       "      <td>-0.048464</td>\n",
       "      <td>1.338363</td>\n",
       "      <td>-0.488067</td>\n",
       "      <td>-1.211504</td>\n",
       "      <td>1.000696</td>\n",
       "      <td>-0.411305</td>\n",
       "    </tr>\n",
       "    <tr>\n",
       "      <th>1</th>\n",
       "      <td>-0.048464</td>\n",
       "      <td>0.887411</td>\n",
       "      <td>0.346439</td>\n",
       "      <td>-0.652938</td>\n",
       "      <td>0.433095</td>\n",
       "      <td>0.090536</td>\n",
       "    </tr>\n",
       "    <tr>\n",
       "      <th>2</th>\n",
       "      <td>1.929775</td>\n",
       "      <td>1.241098</td>\n",
       "      <td>-0.374990</td>\n",
       "      <td>-0.429512</td>\n",
       "      <td>-0.430862</td>\n",
       "      <td>0.088528</td>\n",
       "    </tr>\n",
       "    <tr>\n",
       "      <th>3</th>\n",
       "      <td>0.940656</td>\n",
       "      <td>1.011202</td>\n",
       "      <td>-0.035760</td>\n",
       "      <td>-0.094372</td>\n",
       "      <td>0.900235</td>\n",
       "      <td>-0.114215</td>\n",
       "    </tr>\n",
       "    <tr>\n",
       "      <th>4</th>\n",
       "      <td>1.682495</td>\n",
       "      <td>0.887411</td>\n",
       "      <td>-0.086645</td>\n",
       "      <td>1.581325</td>\n",
       "      <td>-0.832703</td>\n",
       "      <td>-0.310937</td>\n",
       "    </tr>\n",
       "  </tbody>\n",
       "</table>\n",
       "</div>"
      ],
      "text/plain": [
       "    car_age  km_driven  max_power    torque   mileage    engine\n",
       "0 -0.048464   1.338363  -0.488067 -1.211504  1.000696 -0.411305\n",
       "1 -0.048464   0.887411   0.346439 -0.652938  0.433095  0.090536\n",
       "2  1.929775   1.241098  -0.374990 -0.429512 -0.430862  0.088528\n",
       "3  0.940656   1.011202  -0.035760 -0.094372  0.900235 -0.114215\n",
       "4  1.682495   0.887411  -0.086645  1.581325 -0.832703 -0.310937"
      ]
     },
     "execution_count": 87,
     "metadata": {},
     "output_type": "execute_result"
    }
   ],
   "source": [
    "numcols_stdsc.head()"
   ]
  },
  {
   "cell_type": "code",
   "execution_count": 88,
   "id": "61f0fd49",
   "metadata": {},
   "outputs": [],
   "source": [
    "from sklearn.preprocessing import RobustScaler"
   ]
  },
  {
   "cell_type": "code",
   "execution_count": 89,
   "id": "7f66cf74",
   "metadata": {},
   "outputs": [],
   "source": [
    "car_rus=RobustScaler()"
   ]
  },
  {
   "cell_type": "code",
   "execution_count": 90,
   "id": "86d28167",
   "metadata": {},
   "outputs": [],
   "source": [
    "numcols_Rus=car_rus.fit_transform(numcols)"
   ]
  },
  {
   "cell_type": "code",
   "execution_count": 91,
   "id": "ee3814d0",
   "metadata": {},
   "outputs": [],
   "source": [
    "numcols_Rus=pd.DataFrame(numcols_Rus,columns=numcols.columns)"
   ]
  },
  {
   "cell_type": "code",
   "execution_count": 92,
   "id": "6e6b5007",
   "metadata": {},
   "outputs": [
    {
     "data": {
      "text/html": [
       "<div>\n",
       "<style scoped>\n",
       "    .dataframe tbody tr th:only-of-type {\n",
       "        vertical-align: middle;\n",
       "    }\n",
       "\n",
       "    .dataframe tbody tr th {\n",
       "        vertical-align: top;\n",
       "    }\n",
       "\n",
       "    .dataframe thead th {\n",
       "        text-align: right;\n",
       "    }\n",
       "</style>\n",
       "<table border=\"1\" class=\"dataframe\">\n",
       "  <thead>\n",
       "    <tr style=\"text-align: right;\">\n",
       "      <th></th>\n",
       "      <th>car_age</th>\n",
       "      <th>km_driven</th>\n",
       "      <th>max_power</th>\n",
       "      <th>torque</th>\n",
       "      <th>mileage</th>\n",
       "      <th>engine</th>\n",
       "    </tr>\n",
       "  </thead>\n",
       "  <tbody>\n",
       "    <tr>\n",
       "      <th>0</th>\n",
       "      <td>0.166667</td>\n",
       "      <td>1.357143</td>\n",
       "      <td>-0.241327</td>\n",
       "      <td>-0.666667</td>\n",
       "      <td>0.748517</td>\n",
       "      <td>0.000000</td>\n",
       "    </tr>\n",
       "    <tr>\n",
       "      <th>1</th>\n",
       "      <td>0.166667</td>\n",
       "      <td>0.952381</td>\n",
       "      <td>0.649170</td>\n",
       "      <td>-0.333333</td>\n",
       "      <td>0.335920</td>\n",
       "      <td>0.649351</td>\n",
       "    </tr>\n",
       "    <tr>\n",
       "      <th>2</th>\n",
       "      <td>1.500000</td>\n",
       "      <td>1.269841</td>\n",
       "      <td>-0.120664</td>\n",
       "      <td>-0.200000</td>\n",
       "      <td>-0.292104</td>\n",
       "      <td>0.646753</td>\n",
       "    </tr>\n",
       "    <tr>\n",
       "      <th>3</th>\n",
       "      <td>0.833333</td>\n",
       "      <td>1.063492</td>\n",
       "      <td>0.241327</td>\n",
       "      <td>0.000000</td>\n",
       "      <td>0.675491</td>\n",
       "      <td>0.384416</td>\n",
       "    </tr>\n",
       "    <tr>\n",
       "      <th>4</th>\n",
       "      <td>1.333333</td>\n",
       "      <td>0.952381</td>\n",
       "      <td>0.187029</td>\n",
       "      <td>1.000000</td>\n",
       "      <td>-0.584208</td>\n",
       "      <td>0.129870</td>\n",
       "    </tr>\n",
       "  </tbody>\n",
       "</table>\n",
       "</div>"
      ],
      "text/plain": [
       "    car_age  km_driven  max_power    torque   mileage    engine\n",
       "0  0.166667   1.357143  -0.241327 -0.666667  0.748517  0.000000\n",
       "1  0.166667   0.952381   0.649170 -0.333333  0.335920  0.649351\n",
       "2  1.500000   1.269841  -0.120664 -0.200000 -0.292104  0.646753\n",
       "3  0.833333   1.063492   0.241327  0.000000  0.675491  0.384416\n",
       "4  1.333333   0.952381   0.187029  1.000000 -0.584208  0.129870"
      ]
     },
     "execution_count": 92,
     "metadata": {},
     "output_type": "execute_result"
    }
   ],
   "source": [
    "numcols_Rus.head()"
   ]
  },
  {
   "cell_type": "code",
   "execution_count": 93,
   "id": "f8d5f13c",
   "metadata": {},
   "outputs": [
    {
     "data": {
      "text/plain": [
       "Index(['fuel', 'seller_type', 'seats', 'transmission', 'owner'], dtype='object')"
      ]
     },
     "execution_count": 93,
     "metadata": {},
     "output_type": "execute_result"
    }
   ],
   "source": [
    "objcols.columns"
   ]
  },
  {
   "cell_type": "code",
   "execution_count": 94,
   "id": "2c7a0a0e",
   "metadata": {},
   "outputs": [],
   "source": [
    "objcols_dummy=pd.get_dummies(objcols,columns=['fuel', 'seller_type', 'transmission', 'owner', 'seats'])"
   ]
  },
  {
   "cell_type": "code",
   "execution_count": 95,
   "id": "bea77b29",
   "metadata": {},
   "outputs": [
    {
     "data": {
      "text/html": [
       "<div>\n",
       "<style scoped>\n",
       "    .dataframe tbody tr th:only-of-type {\n",
       "        vertical-align: middle;\n",
       "    }\n",
       "\n",
       "    .dataframe tbody tr th {\n",
       "        vertical-align: top;\n",
       "    }\n",
       "\n",
       "    .dataframe thead th {\n",
       "        text-align: right;\n",
       "    }\n",
       "</style>\n",
       "<table border=\"1\" class=\"dataframe\">\n",
       "  <thead>\n",
       "    <tr style=\"text-align: right;\">\n",
       "      <th></th>\n",
       "      <th>fuel_Diesel</th>\n",
       "      <th>fuel_PCL</th>\n",
       "      <th>seller_type_Dealer</th>\n",
       "      <th>seller_type_Individual</th>\n",
       "      <th>seller_type_Trustmark Dealer</th>\n",
       "      <th>transmission_Automatic</th>\n",
       "      <th>transmission_Manual</th>\n",
       "      <th>owner_3&amp;4 Test</th>\n",
       "      <th>owner_First Owner</th>\n",
       "      <th>owner_Second Owner</th>\n",
       "      <th>seats_5.0</th>\n",
       "      <th>seats_7.0</th>\n",
       "      <th>seats_8.0</th>\n",
       "      <th>seats_24691014.0</th>\n",
       "    </tr>\n",
       "  </thead>\n",
       "  <tbody>\n",
       "    <tr>\n",
       "      <th>0</th>\n",
       "      <td>1</td>\n",
       "      <td>0</td>\n",
       "      <td>0</td>\n",
       "      <td>1</td>\n",
       "      <td>0</td>\n",
       "      <td>0</td>\n",
       "      <td>1</td>\n",
       "      <td>0</td>\n",
       "      <td>1</td>\n",
       "      <td>0</td>\n",
       "      <td>1</td>\n",
       "      <td>0</td>\n",
       "      <td>0</td>\n",
       "      <td>0</td>\n",
       "    </tr>\n",
       "    <tr>\n",
       "      <th>1</th>\n",
       "      <td>1</td>\n",
       "      <td>0</td>\n",
       "      <td>0</td>\n",
       "      <td>1</td>\n",
       "      <td>0</td>\n",
       "      <td>0</td>\n",
       "      <td>1</td>\n",
       "      <td>0</td>\n",
       "      <td>0</td>\n",
       "      <td>1</td>\n",
       "      <td>1</td>\n",
       "      <td>0</td>\n",
       "      <td>0</td>\n",
       "      <td>0</td>\n",
       "    </tr>\n",
       "    <tr>\n",
       "      <th>2</th>\n",
       "      <td>0</td>\n",
       "      <td>1</td>\n",
       "      <td>0</td>\n",
       "      <td>1</td>\n",
       "      <td>0</td>\n",
       "      <td>0</td>\n",
       "      <td>1</td>\n",
       "      <td>1</td>\n",
       "      <td>0</td>\n",
       "      <td>0</td>\n",
       "      <td>1</td>\n",
       "      <td>0</td>\n",
       "      <td>0</td>\n",
       "      <td>0</td>\n",
       "    </tr>\n",
       "    <tr>\n",
       "      <th>3</th>\n",
       "      <td>1</td>\n",
       "      <td>0</td>\n",
       "      <td>0</td>\n",
       "      <td>1</td>\n",
       "      <td>0</td>\n",
       "      <td>0</td>\n",
       "      <td>1</td>\n",
       "      <td>0</td>\n",
       "      <td>1</td>\n",
       "      <td>0</td>\n",
       "      <td>1</td>\n",
       "      <td>0</td>\n",
       "      <td>0</td>\n",
       "      <td>0</td>\n",
       "    </tr>\n",
       "    <tr>\n",
       "      <th>4</th>\n",
       "      <td>0</td>\n",
       "      <td>1</td>\n",
       "      <td>0</td>\n",
       "      <td>1</td>\n",
       "      <td>0</td>\n",
       "      <td>0</td>\n",
       "      <td>1</td>\n",
       "      <td>0</td>\n",
       "      <td>1</td>\n",
       "      <td>0</td>\n",
       "      <td>1</td>\n",
       "      <td>0</td>\n",
       "      <td>0</td>\n",
       "      <td>0</td>\n",
       "    </tr>\n",
       "  </tbody>\n",
       "</table>\n",
       "</div>"
      ],
      "text/plain": [
       "   fuel_Diesel  fuel_PCL  seller_type_Dealer  seller_type_Individual  \\\n",
       "0            1         0                   0                       1   \n",
       "1            1         0                   0                       1   \n",
       "2            0         1                   0                       1   \n",
       "3            1         0                   0                       1   \n",
       "4            0         1                   0                       1   \n",
       "\n",
       "   seller_type_Trustmark Dealer  transmission_Automatic  transmission_Manual  \\\n",
       "0                             0                       0                    1   \n",
       "1                             0                       0                    1   \n",
       "2                             0                       0                    1   \n",
       "3                             0                       0                    1   \n",
       "4                             0                       0                    1   \n",
       "\n",
       "   owner_3&4 Test  owner_First Owner  owner_Second Owner  seats_5.0  \\\n",
       "0               0                  1                   0          1   \n",
       "1               0                  0                   1          1   \n",
       "2               1                  0                   0          1   \n",
       "3               0                  1                   0          1   \n",
       "4               0                  1                   0          1   \n",
       "\n",
       "   seats_7.0  seats_8.0  seats_24691014.0  \n",
       "0          0          0                 0  \n",
       "1          0          0                 0  \n",
       "2          0          0                 0  \n",
       "3          0          0                 0  \n",
       "4          0          0                 0  "
      ]
     },
     "execution_count": 95,
     "metadata": {},
     "output_type": "execute_result"
    }
   ],
   "source": [
    "objcols_dummy.head()"
   ]
  },
  {
   "cell_type": "code",
   "execution_count": 96,
   "id": "c57ebab6",
   "metadata": {},
   "outputs": [],
   "source": [
    "car_clean_data=pd.concat([numcols_stdsc,objcols_dummy,cardatadf.selling_price],axis=1)"
   ]
  },
  {
   "cell_type": "code",
   "execution_count": 97,
   "id": "6e2f7dfe",
   "metadata": {},
   "outputs": [
    {
     "data": {
      "text/plain": [
       "(8128, 21)"
      ]
     },
     "execution_count": 97,
     "metadata": {},
     "output_type": "execute_result"
    }
   ],
   "source": [
    "car_clean_data.shape"
   ]
  },
  {
   "cell_type": "code",
   "execution_count": 98,
   "id": "df076f8c",
   "metadata": {},
   "outputs": [],
   "source": [
    "# split data X=car_claen_data\n",
    "X=car_clean_data.drop(\"selling_price\",axis=1)\n",
    "y=car_clean_data.selling_price"
   ]
  },
  {
   "cell_type": "code",
   "execution_count": 99,
   "id": "da6ee19f",
   "metadata": {},
   "outputs": [],
   "source": [
    "# Linear Regression\n",
    "from sklearn.linear_model import LinearRegression"
   ]
  },
  {
   "cell_type": "code",
   "execution_count": 100,
   "id": "3c267dce",
   "metadata": {},
   "outputs": [],
   "source": [
    "le=LinearRegression()"
   ]
  },
  {
   "cell_type": "code",
   "execution_count": 101,
   "id": "438ce283",
   "metadata": {},
   "outputs": [],
   "source": [
    "leregmodel=le.fit(X,y)"
   ]
  },
  {
   "cell_type": "code",
   "execution_count": 102,
   "id": "2d662bd7",
   "metadata": {},
   "outputs": [
    {
     "data": {
      "text/plain": [
       "0.6886651745932868"
      ]
     },
     "execution_count": 102,
     "metadata": {},
     "output_type": "execute_result"
    }
   ],
   "source": [
    "leregmodel.score(X,y)"
   ]
  },
  {
   "cell_type": "code",
   "execution_count": 103,
   "id": "30ae38d9",
   "metadata": {},
   "outputs": [],
   "source": [
    "predict=leregmodel.predict(X)"
   ]
  },
  {
   "cell_type": "code",
   "execution_count": 104,
   "id": "b803e961",
   "metadata": {},
   "outputs": [
    {
     "name": "stderr",
     "output_type": "stream",
     "text": [
      "C:\\Users\\deepe\\AppData\\Local\\Temp\\ipykernel_13108\\2257968620.py:1: RuntimeWarning: overflow encountered in exp\n",
      "  pd.DataFrame(np.exp(predict)).to_csv(\"reg.csv\")\n"
     ]
    }
   ],
   "source": [
    "pd.DataFrame(np.exp(predict)).to_csv(\"reg.csv\")"
   ]
  },
  {
   "cell_type": "code",
   "execution_count": 105,
   "id": "476a9fcb",
   "metadata": {},
   "outputs": [],
   "source": [
    "leregmodel=le.fit(X,np.log(y))"
   ]
  },
  {
   "cell_type": "code",
   "execution_count": 106,
   "id": "1975360f",
   "metadata": {},
   "outputs": [
    {
     "data": {
      "text/plain": [
       "0.8685987228220362"
      ]
     },
     "execution_count": 106,
     "metadata": {},
     "output_type": "execute_result"
    }
   ],
   "source": [
    "leregmodel.score(X,np.log(y))"
   ]
  },
  {
   "cell_type": "code",
   "execution_count": 107,
   "id": "afa6171d",
   "metadata": {},
   "outputs": [],
   "source": [
    "predict=leregmodel.predict(X)"
   ]
  },
  {
   "cell_type": "code",
   "execution_count": 108,
   "id": "19806dec",
   "metadata": {},
   "outputs": [],
   "source": [
    "pd.DataFrame(np.exp(predict)).to_csv(\"reglog.csv\")"
   ]
  },
  {
   "cell_type": "code",
   "execution_count": 109,
   "id": "fd59775d",
   "metadata": {},
   "outputs": [],
   "source": [
    "# Decision Tree\n",
    "from sklearn.tree import DecisionTreeRegressor"
   ]
  },
  {
   "cell_type": "code",
   "execution_count": 110,
   "id": "caa2002a",
   "metadata": {},
   "outputs": [],
   "source": [
    "DTR=DecisionTreeRegressor(max_depth=4)"
   ]
  },
  {
   "cell_type": "code",
   "execution_count": 111,
   "id": "73daa6a1",
   "metadata": {},
   "outputs": [],
   "source": [
    "DTR_model=DTR.fit(X,y)"
   ]
  },
  {
   "cell_type": "code",
   "execution_count": 112,
   "id": "aa934230",
   "metadata": {},
   "outputs": [
    {
     "data": {
      "text/plain": [
       "0.9035585844165369"
      ]
     },
     "execution_count": 112,
     "metadata": {},
     "output_type": "execute_result"
    }
   ],
   "source": [
    "DTR_model.score(X,y)"
   ]
  },
  {
   "cell_type": "code",
   "execution_count": 113,
   "id": "d1c75e45",
   "metadata": {},
   "outputs": [],
   "source": [
    "predict1=DTR_model.predict(X)"
   ]
  },
  {
   "cell_type": "code",
   "execution_count": 114,
   "id": "bb948f50",
   "metadata": {},
   "outputs": [
    {
     "name": "stderr",
     "output_type": "stream",
     "text": [
      "C:\\Users\\deepe\\AppData\\Local\\Temp\\ipykernel_13108\\4088083815.py:1: RuntimeWarning: overflow encountered in exp\n",
      "  pd.DataFrame(np.exp(predict1)).to_csv(\"cardtr.csv\")\n"
     ]
    }
   ],
   "source": [
    "pd.DataFrame(np.exp(predict1)).to_csv(\"cardtr.csv\")"
   ]
  },
  {
   "cell_type": "code",
   "execution_count": 115,
   "id": "caaa052a",
   "metadata": {},
   "outputs": [],
   "source": [
    "DTR_model=DTR.fit(X,np.log(y))"
   ]
  },
  {
   "cell_type": "code",
   "execution_count": 116,
   "id": "34cc1e95",
   "metadata": {},
   "outputs": [
    {
     "data": {
      "text/plain": [
       "0.8170200025834815"
      ]
     },
     "execution_count": 116,
     "metadata": {},
     "output_type": "execute_result"
    }
   ],
   "source": [
    "DTR_model.score(X,np.log(y))"
   ]
  },
  {
   "cell_type": "code",
   "execution_count": 117,
   "id": "f78920b5",
   "metadata": {},
   "outputs": [],
   "source": [
    "predict1=DTR_model.predict(X)"
   ]
  },
  {
   "cell_type": "code",
   "execution_count": 118,
   "id": "65575b79",
   "metadata": {},
   "outputs": [],
   "source": [
    "pd.DataFrame(np.exp(predict1)).to_csv(\"cardtrlog.csv\")"
   ]
  },
  {
   "cell_type": "code",
   "execution_count": 119,
   "id": "028f92d5",
   "metadata": {},
   "outputs": [],
   "source": [
    "# Random Forest\n",
    "from sklearn.ensemble import RandomForestRegressor"
   ]
  },
  {
   "cell_type": "code",
   "execution_count": 120,
   "id": "81371cf4",
   "metadata": {},
   "outputs": [],
   "source": [
    "RFR=RandomForestRegressor(n_estimators=2000)"
   ]
  },
  {
   "cell_type": "code",
   "execution_count": 121,
   "id": "d9f16f98",
   "metadata": {},
   "outputs": [],
   "source": [
    "RFR_model=RFR.fit(X,y)"
   ]
  },
  {
   "cell_type": "code",
   "execution_count": 122,
   "id": "29c068f7",
   "metadata": {},
   "outputs": [
    {
     "data": {
      "text/plain": [
       "0.9956802695767057"
      ]
     },
     "execution_count": 122,
     "metadata": {},
     "output_type": "execute_result"
    }
   ],
   "source": [
    "RFR_model.score(X,y)"
   ]
  },
  {
   "cell_type": "code",
   "execution_count": 123,
   "id": "e3034bfc",
   "metadata": {},
   "outputs": [],
   "source": [
    "predict2=RFR_model.predict(X)"
   ]
  },
  {
   "cell_type": "code",
   "execution_count": 124,
   "id": "b44b949e",
   "metadata": {},
   "outputs": [
    {
     "name": "stderr",
     "output_type": "stream",
     "text": [
      "C:\\Users\\deepe\\AppData\\Local\\Temp\\ipykernel_13108\\3624464597.py:1: RuntimeWarning: overflow encountered in exp\n",
      "  pd.DataFrame(np.exp(predict2)).to_csv(\"car_random.csv\")\n"
     ]
    }
   ],
   "source": [
    "pd.DataFrame(np.exp(predict2)).to_csv(\"car_random.csv\")"
   ]
  },
  {
   "cell_type": "code",
   "execution_count": 125,
   "id": "737ec452",
   "metadata": {},
   "outputs": [],
   "source": [
    "RFR_model=RFR.fit(X,np.log(y))"
   ]
  },
  {
   "cell_type": "code",
   "execution_count": 126,
   "id": "dde3afee",
   "metadata": {},
   "outputs": [
    {
     "data": {
      "text/plain": [
       "0.9902514165617993"
      ]
     },
     "execution_count": 126,
     "metadata": {},
     "output_type": "execute_result"
    }
   ],
   "source": [
    "RFR_model.score(X,np.log(y))"
   ]
  },
  {
   "cell_type": "code",
   "execution_count": 127,
   "id": "1aec54fe",
   "metadata": {},
   "outputs": [],
   "source": [
    "predict2=RFR_model.predict(X)"
   ]
  },
  {
   "cell_type": "code",
   "execution_count": 128,
   "id": "3c3f5c84",
   "metadata": {},
   "outputs": [],
   "source": [
    "pd.DataFrame(np.exp(predict2)).to_csv(\"car_randomlog.csv\")"
   ]
  },
  {
   "cell_type": "code",
   "execution_count": null,
   "id": "0b24747a",
   "metadata": {},
   "outputs": [],
   "source": []
  }
 ],
 "metadata": {
  "kernelspec": {
   "display_name": "Python 3 (ipykernel)",
   "language": "python",
   "name": "python3"
  },
  "language_info": {
   "codemirror_mode": {
    "name": "ipython",
    "version": 3
   },
   "file_extension": ".py",
   "mimetype": "text/x-python",
   "name": "python",
   "nbconvert_exporter": "python",
   "pygments_lexer": "ipython3",
   "version": "3.9.17"
  }
 },
 "nbformat": 4,
 "nbformat_minor": 5
}
